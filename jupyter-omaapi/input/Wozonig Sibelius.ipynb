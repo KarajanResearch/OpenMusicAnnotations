{
 "cells": [
  {
   "cell_type": "markdown",
   "metadata": {},
   "source": [
    "# Terraces in the first Movement of Sibelius Symphony No. 6\n",
    "\n",
    "Here goes some nice abstract of the project.\n",
    "\n",
    "## Introduction\n",
    "\n",
    "Here goes some nice intro. More text...\n"
   ]
  },
  {
   "cell_type": "code",
   "execution_count": 7,
   "metadata": {},
   "outputs": [
    {
     "name": "stdout",
     "output_type": "stream",
     "text": [
      "Hello from python!\n"
     ]
    }
   ],
   "source": [
    "print(\"Hello from python!\")\n"
   ]
  },
  {
   "cell_type": "markdown",
   "metadata": {},
   "source": [
    "## Evaluation\n",
    "\n",
    "* loading data from oma.digital\n",
    "* login via tokens \n",
    "\n"
   ]
  },
  {
   "cell_type": "code",
   "execution_count": 16,
   "metadata": {},
   "outputs": [
    {
     "data": {
      "text/plain": "<__main__.Composer at 0x7f05a2a334a8>"
     },
     "execution_count": 16,
     "metadata": {},
     "output_type": "execute_result"
    }
   ],
   "source": [
    "__author__ = \"Martin Aigner\"\n",
    "\n",
    "import requests\n",
    "import json\n",
    "\n",
    "\n",
    "class Oma:\n",
    "    def __init__(self, endpoint, access_token, verify_certificate=True):\n",
    "        self.endpoint = endpoint\n",
    "        self.access_token = access_token\n",
    "        self.verify_certificate = verify_certificate\n",
    "        self.headers = {\n",
    "            'User-Agent': 'oma.py',\n",
    "            'Authorization': \"Bearer \" + access_token\n",
    "        }\n",
    "        self.config = {\n",
    "            \"api_path\": \"api/\",\n",
    "            \"cache_dir\": \"omacache\"\n",
    "        }\n",
    "        \n",
    "    def recording(self, id):\n",
    "        r = Recording(id, self)\n",
    "        r.get()\n",
    "        return r\n",
    "    \n",
    "    def composer(self, id):\n",
    "        c = Composer(id, self)\n",
    "        c.get()\n",
    "        return c\n",
    "\n",
    "\n",
    "\n",
    "\n",
    "class ApiObject:\n",
    "    def __init__(self):\n",
    "        print(\"ApiObject constructor\")\n",
    "        self.__data_cache = None\n",
    "\n",
    "\n",
    "\n",
    "    def get(self):\n",
    "        params = {\"method\": \"get\", self.objectName: self.id}\n",
    "        url = self.oma_login.endpoint + self.oma_login.config[\"api_path\"] + self.objectName\n",
    "        response = requests.post(url, headers=self.oma_login.headers, data=params, verify=self.oma_login.verify_certificate)\n",
    "        # print(response.content.decode())\n",
    "        content = json.loads(response.content.decode())\n",
    "        self.__data_cache = content\n",
    "\n",
    "    def dictionary(self):\n",
    "        if self.__data_cache is None:\n",
    "            self.get()\n",
    "        return self.__data_cache\n",
    "\n",
    "\n",
    "        \n",
    "class Recording(ApiObject):\n",
    "    def __init__(self, id, oma_login):\n",
    "        self.id = id\n",
    "        self.objectName = \"recording\"\n",
    "        self.oma_login = oma_login\n",
    "\n",
    "        \n",
    "class Composer(ApiObject):\n",
    "    def __init__(self, id, oma_login):\n",
    "        self.id = id\n",
    "        self.objectName = \"composer\"\n",
    "        self.oma_login = oma_login\n",
    "\n",
    "        \n",
    "\n",
    "url = \"http://localhost:8080/\"\n",
    "token = \"4fdnupfvk379b52n00m35n1s5jqtc31s\"\n",
    "\n",
    "oma = Oma(url, token)\n",
    "oma.recording(165735)\n",
    "oma.composer(162303)\n"
   ]
  },
  {
   "cell_type": "code",
   "execution_count": 4,
   "metadata": {},
   "outputs": [],
   "source": []
  },
  {
   "cell_type": "code",
   "execution_count": 5,
   "metadata": {},
   "outputs": [
    {
     "data": {
      "text/html": "<div>\n<style scoped>\n    .dataframe tbody tr th:only-of-type {\n        vertical-align: middle;\n    }\n\n    .dataframe tbody tr th {\n        vertical-align: top;\n    }\n\n    .dataframe thead th {\n        text-align: right;\n    }\n</style>\n<table border=\"1\" class=\"dataframe\">\n  <thead>\n    <tr style=\"text-align: right;\">\n      <th></th>\n      <th>id</th>\n      <th>interpretation</th>\n      <th>title</th>\n    </tr>\n  </thead>\n  <tbody>\n    <tr>\n      <th>0</th>\n      <td>189098</td>\n      <td>{'id': 189462, 'title': 'Barbirolli Hallé O 19...</td>\n      <td>Sibelius_Sym6_I_Barbirolli_HalléO_1970.wav-con...</td>\n    </tr>\n    <tr>\n      <th>1</th>\n      <td>189137</td>\n      <td>{'id': 189492, 'title': 'Rattle BPO 2015'}</td>\n      <td>Sibelius_Sym6_I_Rattle_BPO_2015.wav-converted.wav</td>\n    </tr>\n    <tr>\n      <th>2</th>\n      <td>189155</td>\n      <td>{'id': 189446, 'title': 'Watanabe JPO 1962'}</td>\n      <td>Sibelius_Sym6_Watanabe_JPO_1962_youtube_I.wav-...</td>\n    </tr>\n  </tbody>\n</table>\n</div>",
      "text/plain": "       id                                     interpretation  \\\n0  189098  {'id': 189462, 'title': 'Barbirolli Hallé O 19...   \n1  189137         {'id': 189492, 'title': 'Rattle BPO 2015'}   \n2  189155       {'id': 189446, 'title': 'Watanabe JPO 1962'}   \n\n                                               title  \n0  Sibelius_Sym6_I_Barbirolli_HalléO_1970.wav-con...  \n1  Sibelius_Sym6_I_Rattle_BPO_2015.wav-converted.wav  \n2  Sibelius_Sym6_Watanabe_JPO_1962_youtube_I.wav-...  "
     },
     "execution_count": 5,
     "metadata": {},
     "output_type": "execute_result"
    }
   ],
   "source": [
    "# using data frames to handle tables and stuff\n",
    "import pandas as pd\n",
    "\n",
    "#frame1 = pd.DataFrame(recordings, columns=[\"id\", \"interpretation\", \"title\"])\n",
    "#frame1.head()"
   ]
  },
  {
   "cell_type": "code",
   "execution_count": 15,
   "metadata": {},
   "outputs": [],
   "source": [
    "# create a copy\n",
    "#frame2 = frame1\n",
    "# change interpretation column\n",
    "#frame2[\"interpretation\"] = frame1[\"interpretation\"].map(lambda l : l[\"title\"])\n",
    "#frame2.head()"
   ]
  },
  {
   "cell_type": "code",
   "execution_count": 6,
   "metadata": {},
   "outputs": [],
   "source": []
  },
  {
   "cell_type": "code",
   "execution_count": 6,
   "metadata": {},
   "outputs": [],
   "source": []
  }
 ],
 "metadata": {
  "kernelspec": {
   "name": "pycharm-8b93f190",
   "language": "python",
   "display_name": "PyCharm (jupyter-omaapi)"
  },
  "language_info": {
   "codemirror_mode": {
    "name": "ipython",
    "version": 3
   },
   "file_extension": ".py",
   "mimetype": "text/x-python",
   "name": "python",
   "nbconvert_exporter": "python",
   "pygments_lexer": "ipython3",
   "version": "3.5.2"
  }
 },
 "nbformat": 4,
 "nbformat_minor": 4
}