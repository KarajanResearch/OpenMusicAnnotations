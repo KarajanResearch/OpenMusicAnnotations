{
 "cells": [
  {
   "cell_type": "markdown",
   "metadata": {},
   "source": [
    "# Terraces in the first Movement of Sibelius Symphony No. 6\n",
    "\n",
    "Here goes some nice abstract of the project.\n",
    "\n",
    "## Introduction\n",
    "\n",
    "Here goes some nice intro. More text...\n"
   ]
  },
  {
   "cell_type": "code",
   "execution_count": 7,
   "metadata": {},
   "outputs": [
    {
     "name": "stdout",
     "output_type": "stream",
     "text": [
      "Hello from python!\n"
     ]
    }
   ],
   "source": [
    "print(\"Hello from python!\")\n"
   ]
  },
  {
   "cell_type": "markdown",
   "metadata": {},
   "source": [
    "## Evaluation\n",
    "\n",
    "* loading data from oma.digital\n",
    "* login via tokens \n",
    "\n"
   ]
  },
  {
   "cell_type": "code",
   "execution_count": 44,
   "metadata": {
    "pycharm": {
     "name": "#%%\n"
    }
   },
   "outputs": [],
   "source": [
    "__author__ = \"Martin Aigner\"\n",
    "\n",
    "import requests\n",
    "import json\n",
    "\n",
    "\n",
    "class Oma:\n",
    "    def __init__(self, endpoint, access_token, verify_certificate=True):\n",
    "        self.endpoint = endpoint\n",
    "        self.access_token = access_token\n",
    "        self.verify_certificate = verify_certificate\n",
    "        self.headers = {\n",
    "            'User-Agent': 'oma.py',\n",
    "            'Authorization': \"Bearer \" + access_token\n",
    "        }\n",
    "        self.config = {\n",
    "            \"api_path\": \"api/\",\n",
    "            \"cache_dir\": \"omacache\"\n",
    "        }\n",
    "        \n",
    "    def recording(self, id):\n",
    "        r = Recording(id, self)\n",
    "        r.get()\n",
    "        return r\n",
    "    \n",
    "    def composer(self, id):\n",
    "        c = Composer(id, self)\n",
    "        c.get()\n",
    "        return c\n",
    "\n",
    "    def annotation_session(self, id):\n",
    "        s = AnnotationSession(id, self)\n",
    "        s.get()\n",
    "        return s\n",
    "\n",
    "\n",
    "\n",
    "class ApiObject:\n",
    "    def __init__(self):\n",
    "        print(\"ApiObject constructor\")\n",
    "        self.__data_cache = None\n",
    "\n",
    "    def get(self):\n",
    "        params = {\"method\": \"get\", self.objectName: self.id}\n",
    "        url = self.oma_login.endpoint + self.oma_login.config[\"api_path\"] + self.objectName\n",
    "        response = requests.post(url, headers=self.oma_login.headers, data=params, verify=self.oma_login.verify_certificate)\n",
    "        # print(response.content.decode())\n",
    "        content = json.loads(response.content.decode())\n",
    "        self.__data_cache = content\n",
    "\n",
    "    def dictionary(self):\n",
    "        if self.__data_cache is None:\n",
    "            self.get()\n",
    "        return self.__data_cache\n",
    "\n",
    "\n",
    "class AnnotationSession(ApiObject):\n",
    "    def __init__(self, id, oma_login):\n",
    "            self.id = id\n",
    "            self.objectName = \"session\"\n",
    "            self.oma_login = oma_login\n",
    "\n",
    "        \n",
    "class Recording(ApiObject):\n",
    "    def __init__(self, id, oma_login):\n",
    "        self.id = id\n",
    "        self.objectName = \"recording\"\n",
    "        self.oma_login = oma_login\n",
    "\n",
    "\n",
    "        \n",
    "class Composer(ApiObject):\n",
    "    def __init__(self, id, oma_login):\n",
    "        self.id = id\n",
    "        self.objectName = \"composer\"\n",
    "        self.oma_login = oma_login\n",
    "\n",
    "        \n",
    "\n",
    "url = \"http://localhost:8080/\"\n",
    "token = \"4fdnupfvk379b52n00m35n1s5jqtc31s\"\n",
    "\n",
    "oma = Oma(url, token)\n",
    "#oma.recording(187642)\n",
    "#oma.composer(187593)\n",
    "\n",
    "session = oma.annotation_session(187979)"
   ]
  },
  {
   "cell_type": "code",
   "execution_count": 49,
   "outputs": [
    {
     "data": {
      "text/plain": "[{'barNumber': 1,\n  'beatNumber': 1,\n  'id': 187980,\n  'momentOfPerception': 2.600634921},\n {'barNumber': 2,\n  'beatNumber': 1,\n  'id': 187981,\n  'momentOfPerception': 5.026235828},\n {'barNumber': 3,\n  'beatNumber': 1,\n  'id': 187982,\n  'momentOfPerception': 7.689795918},\n {'barNumber': 4,\n  'beatNumber': 1,\n  'id': 187983,\n  'momentOfPerception': 10.759183673},\n {'barNumber': 5,\n  'beatNumber': 1,\n  'id': 187984,\n  'momentOfPerception': 13.583673469},\n {'barNumber': 6,\n  'beatNumber': 1,\n  'id': 187985,\n  'momentOfPerception': 16.523174603},\n {'barNumber': 7,\n  'beatNumber': 1,\n  'id': 187986,\n  'momentOfPerception': 19.485714286},\n {'barNumber': 8,\n  'beatNumber': 1,\n  'id': 187987,\n  'momentOfPerception': 22.155102041},\n {'barNumber': 9,\n  'beatNumber': 1,\n  'id': 187988,\n  'momentOfPerception': 24.979591837},\n {'barNumber': 10,\n  'beatNumber': 1,\n  'id': 187989,\n  'momentOfPerception': 27.416281179},\n {'barNumber': 11,\n  'beatNumber': 1,\n  'id': 187990,\n  'momentOfPerception': 30.230816327},\n {'barNumber': 12,\n  'beatNumber': 1,\n  'id': 187991,\n  'momentOfPerception': 33.020408163},\n {'barNumber': 13,\n  'beatNumber': 1,\n  'id': 187992,\n  'momentOfPerception': 35.918367347},\n {'barNumber': 14,\n  'beatNumber': 1,\n  'id': 187993,\n  'momentOfPerception': 38.697641723},\n {'barNumber': 15,\n  'beatNumber': 1,\n  'id': 187994,\n  'momentOfPerception': 41.321337868},\n {'barNumber': 16,\n  'beatNumber': 1,\n  'id': 187995,\n  'momentOfPerception': 43.743287982},\n {'barNumber': 17,\n  'beatNumber': 1,\n  'id': 187996,\n  'momentOfPerception': 46.228571429},\n {'barNumber': 18,\n  'beatNumber': 1,\n  'id': 187997,\n  'momentOfPerception': 49.232653061},\n {'barNumber': 19,\n  'beatNumber': 1,\n  'id': 187998,\n  'momentOfPerception': 51.851111111},\n {'barNumber': 20,\n  'beatNumber': 1,\n  'id': 187999,\n  'momentOfPerception': 54.548730159},\n {'barNumber': 21,\n  'beatNumber': 1,\n  'id': 188000,\n  'momentOfPerception': 57.134058957},\n {'barNumber': 22,\n  'beatNumber': 1,\n  'id': 188001,\n  'momentOfPerception': 59.975510204},\n {'barNumber': 23,\n  'beatNumber': 1,\n  'id': 188002,\n  'momentOfPerception': 62.319274376},\n {'barNumber': 24,\n  'beatNumber': 1,\n  'id': 188003,\n  'momentOfPerception': 64.663038549},\n {'barNumber': 25,\n  'beatNumber': 1,\n  'id': 188004,\n  'momentOfPerception': 67.034285714},\n {'barNumber': 26,\n  'beatNumber': 1,\n  'id': 188005,\n  'momentOfPerception': 69.741133787},\n {'barNumber': 27,\n  'beatNumber': 1,\n  'id': 188006,\n  'momentOfPerception': 72.204081633},\n {'barNumber': 28,\n  'beatNumber': 1,\n  'id': 188007,\n  'momentOfPerception': 74.606938776},\n {'barNumber': 29,\n  'beatNumber': 1,\n  'id': 188008,\n  'momentOfPerception': 77.328820862},\n {'barNumber': 30,\n  'beatNumber': 1,\n  'id': 188009,\n  'momentOfPerception': 79.772154195},\n {'barNumber': 31,\n  'beatNumber': 1,\n  'id': 188010,\n  'momentOfPerception': 82.31893424},\n {'barNumber': 32,\n  'beatNumber': 1,\n  'id': 188011,\n  'momentOfPerception': 84.676825397},\n {'barNumber': 33,\n  'beatNumber': 1,\n  'id': 188012,\n  'momentOfPerception': 87.173514739},\n {'barNumber': 34,\n  'beatNumber': 1,\n  'id': 188013,\n  'momentOfPerception': 89.669387755},\n {'barNumber': 35,\n  'beatNumber': 1,\n  'id': 188014,\n  'momentOfPerception': 92.081632653},\n {'barNumber': 36,\n  'beatNumber': 1,\n  'id': 188015,\n  'momentOfPerception': 94.862743764},\n {'barNumber': 37,\n  'beatNumber': 1,\n  'id': 188016,\n  'momentOfPerception': 96.804716553},\n {'barNumber': 38,\n  'beatNumber': 1,\n  'id': 188017,\n  'momentOfPerception': 99.040816327},\n {'barNumber': 39,\n  'beatNumber': 1,\n  'id': 188018,\n  'momentOfPerception': 101.755102041},\n {'barNumber': 40,\n  'beatNumber': 1,\n  'id': 188019,\n  'momentOfPerception': 104.733605442},\n {'barNumber': 41,\n  'beatNumber': 1,\n  'id': 188020,\n  'momentOfPerception': 107.278820862},\n {'barNumber': 42,\n  'beatNumber': 1,\n  'id': 188021,\n  'momentOfPerception': 110.070929705},\n {'barNumber': 43,\n  'beatNumber': 1,\n  'id': 188022,\n  'momentOfPerception': 112.393129252},\n {'barNumber': 44,\n  'beatNumber': 1,\n  'id': 188023,\n  'momentOfPerception': 114.782494331},\n {'barNumber': 45,\n  'beatNumber': 1,\n  'id': 188024,\n  'momentOfPerception': 117.327142857},\n {'barNumber': 46,\n  'beatNumber': 1,\n  'id': 188025,\n  'momentOfPerception': 120.135011338},\n {'barNumber': 47,\n  'beatNumber': 1,\n  'id': 188026,\n  'momentOfPerception': 122.534716553},\n {'barNumber': 48,\n  'beatNumber': 1,\n  'id': 188027,\n  'momentOfPerception': 124.975510204},\n {'barNumber': 49,\n  'beatNumber': 1,\n  'id': 188028,\n  'momentOfPerception': 127.416326531},\n {'barNumber': 50,\n  'beatNumber': 1,\n  'id': 188029,\n  'momentOfPerception': 129.930181406},\n {'barNumber': 51,\n  'beatNumber': 1,\n  'id': 188030,\n  'momentOfPerception': 132.539501134},\n {'barNumber': 52,\n  'beatNumber': 1,\n  'id': 188031,\n  'momentOfPerception': 135.087891156},\n {'barNumber': 53,\n  'beatNumber': 1,\n  'id': 188032,\n  'momentOfPerception': 137.566621315},\n {'barNumber': 54,\n  'beatNumber': 1,\n  'id': 188033,\n  'momentOfPerception': 140.151882086},\n {'barNumber': 55,\n  'beatNumber': 1,\n  'id': 188034,\n  'momentOfPerception': 142.655124717},\n {'barNumber': 56,\n  'beatNumber': 1,\n  'id': 188035,\n  'momentOfPerception': 145.201111111},\n {'barNumber': 57,\n  'beatNumber': 1,\n  'id': 188036,\n  'momentOfPerception': 147.73755102},\n {'barNumber': 58,\n  'beatNumber': 1,\n  'id': 188037,\n  'momentOfPerception': 150.221496599},\n {'barNumber': 59,\n  'beatNumber': 1,\n  'id': 188038,\n  'momentOfPerception': 152.674172336},\n {'barNumber': 60,\n  'beatNumber': 1,\n  'id': 188039,\n  'momentOfPerception': 155.138185941},\n {'barNumber': 61,\n  'beatNumber': 1,\n  'id': 188040,\n  'momentOfPerception': 157.646099773},\n {'barNumber': 62,\n  'beatNumber': 1,\n  'id': 188041,\n  'momentOfPerception': 160.205578231},\n {'barNumber': 63,\n  'beatNumber': 1,\n  'id': 188042,\n  'momentOfPerception': 162.755328798},\n {'barNumber': 64,\n  'beatNumber': 1,\n  'id': 188043,\n  'momentOfPerception': 165.477006803},\n {'barNumber': 65,\n  'beatNumber': 1,\n  'id': 188044,\n  'momentOfPerception': 168.334693878},\n {'barNumber': 66,\n  'beatNumber': 1,\n  'id': 188045,\n  'momentOfPerception': 171.061405896},\n {'barNumber': 67,\n  'beatNumber': 1,\n  'id': 188046,\n  'momentOfPerception': 173.940680272},\n {'barNumber': 68,\n  'beatNumber': 1,\n  'id': 188047,\n  'momentOfPerception': 176.024671202},\n {'barNumber': 69,\n  'beatNumber': 1,\n  'id': 188048,\n  'momentOfPerception': 177.925668934},\n {'barNumber': 70,\n  'beatNumber': 1,\n  'id': 188049,\n  'momentOfPerception': 179.718911565},\n {'barNumber': 71,\n  'beatNumber': 1,\n  'id': 188050,\n  'momentOfPerception': 181.534693878},\n {'barNumber': 72,\n  'beatNumber': 1,\n  'id': 188051,\n  'momentOfPerception': 183.391179138},\n {'barNumber': 73,\n  'beatNumber': 1,\n  'id': 188052,\n  'momentOfPerception': 185.1538322},\n {'barNumber': 74,\n  'beatNumber': 1,\n  'id': 188053,\n  'momentOfPerception': 187.002380952},\n {'barNumber': 75,\n  'beatNumber': 1,\n  'id': 188054,\n  'momentOfPerception': 188.785986395},\n {'barNumber': 76,\n  'beatNumber': 1,\n  'id': 188055,\n  'momentOfPerception': 190.571972789},\n {'barNumber': 77,\n  'beatNumber': 1,\n  'id': 188056,\n  'momentOfPerception': 192.35244898},\n {'barNumber': 78,\n  'beatNumber': 1,\n  'id': 188057,\n  'momentOfPerception': 194.177981859},\n {'barNumber': 79,\n  'beatNumber': 1,\n  'id': 188058,\n  'momentOfPerception': 195.941405896},\n {'barNumber': 80,\n  'beatNumber': 1,\n  'id': 188059,\n  'momentOfPerception': 197.659863946},\n {'barNumber': 81,\n  'beatNumber': 1,\n  'id': 188060,\n  'momentOfPerception': 199.544331066},\n {'barNumber': 82,\n  'beatNumber': 1,\n  'id': 188061,\n  'momentOfPerception': 201.462131519},\n {'barNumber': 83,\n  'beatNumber': 1,\n  'id': 188062,\n  'momentOfPerception': 203.371972789},\n {'barNumber': 84,\n  'beatNumber': 1,\n  'id': 188063,\n  'momentOfPerception': 205.237687075},\n {'barNumber': 85,\n  'beatNumber': 1,\n  'id': 188064,\n  'momentOfPerception': 207.121995465},\n {'barNumber': 86,\n  'beatNumber': 1,\n  'id': 188065,\n  'momentOfPerception': 208.991201814},\n {'barNumber': 87,\n  'beatNumber': 1,\n  'id': 188066,\n  'momentOfPerception': 210.808163265},\n {'barNumber': 88,\n  'beatNumber': 1,\n  'id': 188067,\n  'momentOfPerception': 212.700793651},\n {'barNumber': 89,\n  'beatNumber': 1,\n  'id': 188068,\n  'momentOfPerception': 214.560068027},\n {'barNumber': 90,\n  'beatNumber': 1,\n  'id': 188069,\n  'momentOfPerception': 216.259047619},\n {'barNumber': 91,\n  'beatNumber': 1,\n  'id': 188070,\n  'momentOfPerception': 218.082199546},\n {'barNumber': 92,\n  'beatNumber': 1,\n  'id': 188071,\n  'momentOfPerception': 219.904580499},\n {'barNumber': 93,\n  'beatNumber': 1,\n  'id': 188072,\n  'momentOfPerception': 221.639977324},\n {'barNumber': 94,\n  'beatNumber': 1,\n  'id': 188073,\n  'momentOfPerception': 223.358548753},\n {'barNumber': 95,\n  'beatNumber': 1,\n  'id': 188074,\n  'momentOfPerception': 225.129070295},\n {'barNumber': 96,\n  'beatNumber': 1,\n  'id': 188075,\n  'momentOfPerception': 226.940226757},\n {'barNumber': 97,\n  'beatNumber': 1,\n  'id': 188076,\n  'momentOfPerception': 228.675918367},\n {'barNumber': 98,\n  'beatNumber': 1,\n  'id': 188077,\n  'momentOfPerception': 230.452244898},\n {'barNumber': 99,\n  'beatNumber': 1,\n  'id': 188078,\n  'momentOfPerception': 232.226938776},\n {'barNumber': 100,\n  'beatNumber': 1,\n  'id': 188079,\n  'momentOfPerception': 233.963492063},\n {'barNumber': 101,\n  'beatNumber': 1,\n  'id': 188080,\n  'momentOfPerception': 235.745759637},\n {'barNumber': 102,\n  'beatNumber': 1,\n  'id': 188081,\n  'momentOfPerception': 237.479886621},\n {'barNumber': 103,\n  'beatNumber': 1,\n  'id': 188082,\n  'momentOfPerception': 239.22600907},\n {'barNumber': 104,\n  'beatNumber': 1,\n  'id': 188083,\n  'momentOfPerception': 241.080204082},\n {'barNumber': 105,\n  'beatNumber': 1,\n  'id': 188084,\n  'momentOfPerception': 242.878911565},\n {'barNumber': 106,\n  'beatNumber': 1,\n  'id': 188085,\n  'momentOfPerception': 244.697687075},\n {'barNumber': 107,\n  'beatNumber': 1,\n  'id': 188086,\n  'momentOfPerception': 246.557664399},\n {'barNumber': 108,\n  'beatNumber': 1,\n  'id': 188087,\n  'momentOfPerception': 248.396689342},\n {'barNumber': 109,\n  'beatNumber': 1,\n  'id': 188088,\n  'momentOfPerception': 250.260340136},\n {'barNumber': 110,\n  'beatNumber': 1,\n  'id': 188089,\n  'momentOfPerception': 252.117505669},\n {'barNumber': 111,\n  'beatNumber': 1,\n  'id': 188090,\n  'momentOfPerception': 253.909319728},\n {'barNumber': 112,\n  'beatNumber': 1,\n  'id': 188091,\n  'momentOfPerception': 255.619002268},\n {'barNumber': 113,\n  'beatNumber': 1,\n  'id': 188092,\n  'momentOfPerception': 257.369977324},\n {'barNumber': 114,\n  'beatNumber': 1,\n  'id': 188093,\n  'momentOfPerception': 259.138503401},\n {'barNumber': 115,\n  'beatNumber': 1,\n  'id': 188094,\n  'momentOfPerception': 260.8530839},\n {'barNumber': 116,\n  'beatNumber': 1,\n  'id': 188095,\n  'momentOfPerception': 262.578798186},\n {'barNumber': 117,\n  'beatNumber': 1,\n  'id': 188096,\n  'momentOfPerception': 264.324353741},\n {'barNumber': 118,\n  'beatNumber': 1,\n  'id': 188097,\n  'momentOfPerception': 266.048435374},\n {'barNumber': 119,\n  'beatNumber': 1,\n  'id': 188098,\n  'momentOfPerception': 267.756734694},\n {'barNumber': 120,\n  'beatNumber': 1,\n  'id': 188099,\n  'momentOfPerception': 269.45015873},\n {'barNumber': 121,\n  'beatNumber': 1,\n  'id': 188100,\n  'momentOfPerception': 271.181156463},\n {'barNumber': 122,\n  'beatNumber': 1,\n  'id': 188101,\n  'momentOfPerception': 272.945260771},\n {'barNumber': 123,\n  'beatNumber': 1,\n  'id': 188102,\n  'momentOfPerception': 274.636371882},\n {'barNumber': 124,\n  'beatNumber': 1,\n  'id': 188103,\n  'momentOfPerception': 276.39292517},\n {'barNumber': 125,\n  'beatNumber': 1,\n  'id': 188104,\n  'momentOfPerception': 278.122358277},\n {'barNumber': 126,\n  'beatNumber': 1,\n  'id': 188105,\n  'momentOfPerception': 279.88154195},\n {'barNumber': 127,\n  'beatNumber': 1,\n  'id': 188106,\n  'momentOfPerception': 281.562585034},\n {'barNumber': 128,\n  'beatNumber': 1,\n  'id': 188107,\n  'momentOfPerception': 283.257482993},\n {'barNumber': 129,\n  'beatNumber': 1,\n  'id': 188108,\n  'momentOfPerception': 284.938843537},\n {'barNumber': 130,\n  'beatNumber': 1,\n  'id': 188109,\n  'momentOfPerception': 286.656145125},\n {'barNumber': 131,\n  'beatNumber': 1,\n  'id': 188110,\n  'momentOfPerception': 288.33292517},\n {'barNumber': 132,\n  'beatNumber': 1,\n  'id': 188111,\n  'momentOfPerception': 290.060839002},\n {'barNumber': 133,\n  'beatNumber': 1,\n  'id': 188112,\n  'momentOfPerception': 291.79122449},\n {'barNumber': 134,\n  'beatNumber': 1,\n  'id': 188113,\n  'momentOfPerception': 293.517641723},\n {'barNumber': 135,\n  'beatNumber': 1,\n  'id': 188114,\n  'momentOfPerception': 295.22106576},\n {'barNumber': 136,\n  'beatNumber': 1,\n  'id': 188115,\n  'momentOfPerception': 296.923333333},\n {'barNumber': 137,\n  'beatNumber': 1,\n  'id': 188116,\n  'momentOfPerception': 298.628027211},\n {'barNumber': 138,\n  'beatNumber': 1,\n  'id': 188117,\n  'momentOfPerception': 300.357959184},\n {'barNumber': 139,\n  'beatNumber': 1,\n  'id': 188118,\n  'momentOfPerception': 302.037482993},\n {'barNumber': 140,\n  'beatNumber': 1,\n  'id': 188119,\n  'momentOfPerception': 303.734512472},\n {'barNumber': 141,\n  'beatNumber': 1,\n  'id': 188120,\n  'momentOfPerception': 305.396553288},\n {'barNumber': 142,\n  'beatNumber': 1,\n  'id': 188121,\n  'momentOfPerception': 307.112403628},\n {'barNumber': 143,\n  'beatNumber': 1,\n  'id': 188122,\n  'momentOfPerception': 308.830385488},\n {'barNumber': 144,\n  'beatNumber': 1,\n  'id': 188123,\n  'momentOfPerception': 310.468208617},\n {'barNumber': 145,\n  'beatNumber': 1,\n  'id': 188124,\n  'momentOfPerception': 312.135351474},\n {'barNumber': 146,\n  'beatNumber': 1,\n  'id': 188125,\n  'momentOfPerception': 313.868684807},\n {'barNumber': 147,\n  'beatNumber': 1,\n  'id': 188126,\n  'momentOfPerception': 315.631882086},\n {'barNumber': 148,\n  'beatNumber': 1,\n  'id': 188127,\n  'momentOfPerception': 317.323900227},\n {'barNumber': 149,\n  'beatNumber': 1,\n  'id': 188128,\n  'momentOfPerception': 319.106031746},\n {'barNumber': 150,\n  'beatNumber': 1,\n  'id': 188129,\n  'momentOfPerception': 320.836417234},\n {'barNumber': 151,\n  'beatNumber': 1,\n  'id': 188130,\n  'momentOfPerception': 322.574376417},\n {'barNumber': 152,\n  'beatNumber': 1,\n  'id': 188131,\n  'momentOfPerception': 324.271315193},\n {'barNumber': 153,\n  'beatNumber': 1,\n  'id': 188132,\n  'momentOfPerception': 325.989977324},\n {'barNumber': 154,\n  'beatNumber': 1,\n  'id': 188133,\n  'momentOfPerception': 327.748888889},\n {'barNumber': 155,\n  'beatNumber': 1,\n  'id': 188134,\n  'momentOfPerception': 329.490997732},\n {'barNumber': 156,\n  'beatNumber': 1,\n  'id': 188135,\n  'momentOfPerception': 331.213310658},\n {'barNumber': 157,\n  'beatNumber': 1,\n  'id': 188136,\n  'momentOfPerception': 332.900702948},\n {'barNumber': 158,\n  'beatNumber': 1,\n  'id': 188137,\n  'momentOfPerception': 334.635804989},\n {'barNumber': 159,\n  'beatNumber': 1,\n  'id': 188138,\n  'momentOfPerception': 336.366258503},\n {'barNumber': 160,\n  'beatNumber': 1,\n  'id': 188139,\n  'momentOfPerception': 338.078072562},\n {'barNumber': 161,\n  'beatNumber': 1,\n  'id': 188140,\n  'momentOfPerception': 339.764807256},\n {'barNumber': 162,\n  'beatNumber': 1,\n  'id': 188141,\n  'momentOfPerception': 341.506984127},\n {'barNumber': 163,\n  'beatNumber': 1,\n  'id': 188142,\n  'momentOfPerception': 343.188004535},\n {'barNumber': 164,\n  'beatNumber': 1,\n  'id': 188143,\n  'momentOfPerception': 344.918344671},\n {'barNumber': 165,\n  'beatNumber': 1,\n  'id': 188144,\n  'momentOfPerception': 346.618503401},\n {'barNumber': 166,\n  'beatNumber': 1,\n  'id': 188145,\n  'momentOfPerception': 348.302018141},\n {'barNumber': 167,\n  'beatNumber': 1,\n  'id': 188146,\n  'momentOfPerception': 350.097777778},\n {'barNumber': 168,\n  'beatNumber': 1,\n  'id': 188147,\n  'momentOfPerception': 351.899092971},\n {'barNumber': 169,\n  'beatNumber': 1,\n  'id': 188148,\n  'momentOfPerception': 353.808866213},\n {'barNumber': 170,\n  'beatNumber': 1,\n  'id': 188149,\n  'momentOfPerception': 355.500861678},\n {'barNumber': 171,\n  'beatNumber': 1,\n  'id': 188150,\n  'momentOfPerception': 357.278276644},\n {'barNumber': 172,\n  'beatNumber': 1,\n  'id': 188151,\n  'momentOfPerception': 359.044353741},\n {'barNumber': 173,\n  'beatNumber': 1,\n  'id': 188152,\n  'momentOfPerception': 360.855510204},\n {'barNumber': 174,\n  'beatNumber': 1,\n  'id': 188153,\n  'momentOfPerception': 362.61031746},\n {'barNumber': 175,\n  'beatNumber': 1,\n  'id': 188154,\n  'momentOfPerception': 364.351201814},\n {'barNumber': 176,\n  'beatNumber': 1,\n  'id': 188155,\n  'momentOfPerception': 366.074195011},\n {'barNumber': 177,\n  'beatNumber': 1,\n  'id': 188156,\n  'momentOfPerception': 367.970589569},\n {'barNumber': 178,\n  'beatNumber': 1,\n  'id': 188157,\n  'momentOfPerception': 369.626848073},\n {'barNumber': 179,\n  'beatNumber': 1,\n  'id': 188158,\n  'momentOfPerception': 371.383764172},\n {'barNumber': 180,\n  'beatNumber': 1,\n  'id': 188159,\n  'momentOfPerception': 373.129433107},\n {'barNumber': 181,\n  'beatNumber': 1,\n  'id': 188160,\n  'momentOfPerception': 374.923061224},\n {'barNumber': 182,\n  'beatNumber': 1,\n  'id': 188161,\n  'momentOfPerception': 376.790181406},\n {'barNumber': 183,\n  'beatNumber': 1,\n  'id': 188162,\n  'momentOfPerception': 378.653605442},\n {'barNumber': 184,\n  'beatNumber': 1,\n  'id': 188163,\n  'momentOfPerception': 380.383514739},\n {'barNumber': 185,\n  'beatNumber': 1,\n  'id': 188164,\n  'momentOfPerception': 382.203356009},\n {'barNumber': 186,\n  'beatNumber': 1,\n  'id': 188165,\n  'momentOfPerception': 383.966666667},\n {'barNumber': 187,\n  'beatNumber': 1,\n  'id': 188166,\n  'momentOfPerception': 385.742970522},\n {'barNumber': 188,\n  'beatNumber': 1,\n  'id': 188167,\n  'momentOfPerception': 387.532630385},\n {'barNumber': 189,\n  'beatNumber': 1,\n  'id': 188168,\n  'momentOfPerception': 389.351904762},\n {'barNumber': 190,\n  'beatNumber': 1,\n  'id': 188169,\n  'momentOfPerception': 391.002471655},\n {'barNumber': 191,\n  'beatNumber': 1,\n  'id': 188170,\n  'momentOfPerception': 392.755147392},\n {'barNumber': 192,\n  'beatNumber': 1,\n  'id': 188171,\n  'momentOfPerception': 394.697482993},\n {'barNumber': 193,\n  'beatNumber': 1,\n  'id': 188172,\n  'momentOfPerception': 396.509705215},\n {'barNumber': 194,\n  'beatNumber': 1,\n  'id': 188173,\n  'momentOfPerception': 398.360294785},\n {'barNumber': 195,\n  'beatNumber': 1,\n  'id': 188174,\n  'momentOfPerception': 400.143673469},\n {'barNumber': 196,\n  'beatNumber': 1,\n  'id': 188175,\n  'momentOfPerception': 401.987641723},\n {'barNumber': 197,\n  'beatNumber': 1,\n  'id': 188176,\n  'momentOfPerception': 403.719546485},\n {'barNumber': 198,\n  'beatNumber': 1,\n  'id': 188177,\n  'momentOfPerception': 405.475260771},\n {'barNumber': 199,\n  'beatNumber': 1,\n  'id': 188178,\n  'momentOfPerception': 407.290521542},\n {'barNumber': 200,\n  'beatNumber': 1,\n  'id': 188179,\n  'momentOfPerception': 409.167006803},\n {'barNumber': 201,\n  'beatNumber': 1,\n  'id': 188180,\n  'momentOfPerception': 410.994580499},\n {'barNumber': 202,\n  'beatNumber': 1,\n  'id': 188181,\n  'momentOfPerception': 412.689659864},\n {'barNumber': 203,\n  'beatNumber': 1,\n  'id': 188182,\n  'momentOfPerception': 414.51106576},\n {'barNumber': 204,\n  'beatNumber': 1,\n  'id': 188183,\n  'momentOfPerception': 416.275736961},\n {'barNumber': 205,\n  'beatNumber': 1,\n  'id': 188184,\n  'momentOfPerception': 417.972494331},\n {'barNumber': 206,\n  'beatNumber': 1,\n  'id': 188185,\n  'momentOfPerception': 419.754195011},\n {'barNumber': 207,\n  'beatNumber': 1,\n  'id': 188186,\n  'momentOfPerception': 421.437845805},\n {'barNumber': 208,\n  'beatNumber': 1,\n  'id': 188187,\n  'momentOfPerception': 423.167210884},\n {'barNumber': 209,\n  'beatNumber': 1,\n  'id': 188188,\n  'momentOfPerception': 424.865668934},\n {'barNumber': 210,\n  'beatNumber': 1,\n  'id': 188189,\n  'momentOfPerception': 426.538956916},\n {'barNumber': 211,\n  'beatNumber': 1,\n  'id': 188190,\n  'momentOfPerception': 428.259274376},\n {'barNumber': 212,\n  'beatNumber': 1,\n  'id': 188191,\n  'momentOfPerception': 429.969705215},\n {'barNumber': 213,\n  'beatNumber': 1,\n  'id': 188192,\n  'momentOfPerception': 431.693786848},\n {'barNumber': 214,\n  'beatNumber': 1,\n  'id': 188193,\n  'momentOfPerception': 433.373401361},\n {'barNumber': 215,\n  'beatNumber': 1,\n  'id': 188194,\n  'momentOfPerception': 435.136145125},\n {'barNumber': 216,\n  'beatNumber': 1,\n  'id': 188195,\n  'momentOfPerception': 436.811043084},\n {'barNumber': 217,\n  'beatNumber': 1,\n  'id': 188196,\n  'momentOfPerception': 438.682993197},\n {'barNumber': 218,\n  'beatNumber': 1,\n  'id': 188197,\n  'momentOfPerception': 440.488344671},\n {'barNumber': 219,\n  'beatNumber': 1,\n  'id': 188198,\n  'momentOfPerception': 442.326621315},\n {'barNumber': 220,\n  'beatNumber': 1,\n  'id': 188199,\n  'momentOfPerception': 444.023174603},\n {'barNumber': 221,\n  'beatNumber': 1,\n  'id': 188200,\n  'momentOfPerception': 445.886984127},\n {'barNumber': 222,\n  'beatNumber': 1,\n  'id': 188201,\n  'momentOfPerception': 447.791020408},\n {'barNumber': 223,\n  'beatNumber': 1,\n  'id': 188202,\n  'momentOfPerception': 449.712471655},\n {'barNumber': 224,\n  'beatNumber': 1,\n  'id': 188203,\n  'momentOfPerception': 451.657142857},\n {'barNumber': 225,\n  'beatNumber': 1,\n  'id': 188204,\n  'momentOfPerception': 453.524376417},\n {'barNumber': 226,\n  'beatNumber': 1,\n  'id': 188205,\n  'momentOfPerception': 455.452108844},\n {'barNumber': 227,\n  'beatNumber': 1,\n  'id': 188206,\n  'momentOfPerception': 457.299591837},\n {'barNumber': 228,\n  'beatNumber': 1,\n  'id': 188207,\n  'momentOfPerception': 459.277528345},\n {'barNumber': 229,\n  'beatNumber': 1,\n  'id': 188208,\n  'momentOfPerception': 461.361678005},\n {'barNumber': 230,\n  'beatNumber': 1,\n  'id': 188209,\n  'momentOfPerception': 463.921088435},\n {'barNumber': 231,\n  'beatNumber': 1,\n  'id': 188210,\n  'momentOfPerception': 466.581768707},\n {'barNumber': 232,\n  'beatNumber': 1,\n  'id': 188211,\n  'momentOfPerception': 469.548117914},\n {'barNumber': 233,\n  'beatNumber': 1,\n  'id': 188212,\n  'momentOfPerception': 471.179319728},\n {'barNumber': 234,\n  'beatNumber': 1,\n  'id': 188213,\n  'momentOfPerception': 472.882494331},\n {'barNumber': 235,\n  'beatNumber': 1,\n  'id': 188214,\n  'momentOfPerception': 475.608526077},\n {'barNumber': 236,\n  'beatNumber': 1,\n  'id': 188215,\n  'momentOfPerception': 478.690975057},\n {'barNumber': 237,\n  'beatNumber': 1,\n  'id': 188216,\n  'momentOfPerception': 480.293151927},\n {'barNumber': 238,\n  'beatNumber': 1,\n  'id': 188217,\n  'momentOfPerception': 482.057868481},\n {'barNumber': 239,\n  'beatNumber': 1,\n  'id': 188218,\n  'momentOfPerception': 484.14185941},\n {'barNumber': 240,\n  'beatNumber': 1,\n  'id': 188219,\n  'momentOfPerception': 486.707664399},\n {'barNumber': 241,\n  'beatNumber': 1,\n  'id': 188220,\n  'momentOfPerception': 488.820680272},\n {'barNumber': 242,\n  'beatNumber': 1,\n  'id': 188221,\n  'momentOfPerception': 490.895260771},\n {'barNumber': 243,\n  'beatNumber': 1,\n  'id': 188222,\n  'momentOfPerception': 493.156439909},\n {'barNumber': 244,\n  'beatNumber': 1,\n  'id': 188223,\n  'momentOfPerception': 495.480793651},\n {'barNumber': 245,\n  'beatNumber': 1,\n  'id': 188224,\n  'momentOfPerception': 497.908911565},\n {'barNumber': 246,\n  'beatNumber': 1,\n  'id': 188225,\n  'momentOfPerception': 500.317188209},\n {'barNumber': 247,\n  'beatNumber': 1,\n  'id': 188226,\n  'momentOfPerception': 502.462517007},\n {'barNumber': 248,\n  'beatNumber': 1,\n  'id': 188227,\n  'momentOfPerception': 504.279365079},\n {'barNumber': 249,\n  'beatNumber': 1,\n  'id': 188228,\n  'momentOfPerception': 506.128117914},\n {'barNumber': 250,\n  'beatNumber': 1,\n  'id': 188229,\n  'momentOfPerception': 508.005668934},\n {'barNumber': 251,\n  'beatNumber': 1,\n  'id': 188230,\n  'momentOfPerception': 509.883219955},\n {'barNumber': 252,\n  'beatNumber': 1,\n  'id': 188231,\n  'momentOfPerception': 511.704195011},\n {'barNumber': 253,\n  'beatNumber': 1,\n  'id': 188232,\n  'momentOfPerception': 513.520907029},\n {'barNumber': 254,\n  'beatNumber': 1,\n  'id': 188233,\n  'momentOfPerception': 515.337868481},\n {'barNumber': 255,\n  'beatNumber': 1,\n  'id': 188234,\n  'momentOfPerception': 517.154829932},\n {'barNumber': 256,\n  'beatNumber': 1,\n  'id': 188235,\n  'momentOfPerception': 519.266666667},\n {'barNumber': 257,\n  'beatNumber': 1,\n  'id': 188236,\n  'momentOfPerception': 521.321315193},\n {'barNumber': 258,\n  'beatNumber': 1,\n  'id': 188237,\n  'momentOfPerception': 523.54031746},\n {'barNumber': 259,\n  'beatNumber': 1,\n  'id': 188238,\n  'momentOfPerception': 526.210612245},\n {'barNumber': 260,\n  'beatNumber': 1,\n  'id': 188239,\n  'momentOfPerception': 528.550022676},\n {'barNumber': 261,\n  'beatNumber': 1,\n  'id': 188240,\n  'momentOfPerception': 530.872018141},\n {'barNumber': 262,\n  'beatNumber': 1,\n  'id': 188241,\n  'momentOfPerception': 533.960272109},\n {'barNumber': 263,\n  'beatNumber': 1,\n  'id': 188242,\n  'momentOfPerception': 536.969024943},\n {'barNumber': 264,\n  'beatNumber': 1,\n  'id': 188243,\n  'momentOfPerception': 539.753650794},\n {'barNumber': 265,\n  'beatNumber': 1,\n  'id': 188244,\n  'momentOfPerception': 542.389591837},\n {'barNumber': 266,\n  'beatNumber': 1,\n  'id': 188245,\n  'momentOfPerception': 545.845034014}]"
     },
     "execution_count": 49,
     "metadata": {},
     "output_type": "execute_result"
    }
   ],
   "source": [
    "import pandas as pd\n",
    "\n",
    "# use dictionary to get data as python dictionary\n",
    "session_data = session.dictionary()\n",
    "# select annotations property of session\n",
    "\n",
    "annotations = session_data[\"annotations\"]\n",
    "\n",
    "# create pandas dataframe from annotations\n",
    "pd.DataFrame(annotations)\n",
    "\n",
    "annotations"
   ],
   "metadata": {
    "collapsed": false,
    "pycharm": {
     "name": "#%%\n"
    }
   }
  },
  {
   "cell_type": "code",
   "execution_count": null,
   "outputs": [],
   "source": [
    "\n",
    "\n",
    "\n",
    "\n",
    "\n",
    "\n",
    "\n",
    "\n",
    "\n",
    "\n",
    "\n",
    "\n",
    "\n",
    "\n",
    "\n",
    "\n",
    "\n",
    "\n",
    "\n",
    "\n"
   ],
   "metadata": {
    "collapsed": false,
    "pycharm": {
     "name": "#%%\n"
    }
   }
  }
 ],
 "metadata": {
  "kernelspec": {
   "name": "pycharm-8b93f190",
   "language": "python",
   "display_name": "PyCharm (jupyter-omaapi)"
  },
  "language_info": {
   "codemirror_mode": {
    "name": "ipython",
    "version": 3
   },
   "file_extension": ".py",
   "mimetype": "text/x-python",
   "name": "python",
   "nbconvert_exporter": "python",
   "pygments_lexer": "ipython3",
   "version": "3.5.2"
  }
 },
 "nbformat": 4,
 "nbformat_minor": 4
}