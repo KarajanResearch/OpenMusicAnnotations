{
 "cells": [
  {
   "cell_type": "markdown",
   "metadata": {},
   "source": [
    "# Terraces in the first Movement of Sibelius Symphony No. 6\n",
    "\n",
    "Here goes some nice abstract of the project.\n",
    "\n",
    "## Introduction\n",
    "\n",
    "Here goes some nice intro. More text...\n",
    "\n",
    "Example:\n",
    "http://localhost:8080/recording/show/187642\n"
   ]
  },
  {
   "cell_type": "code",
   "execution_count": 7,
   "metadata": {},
   "outputs": [
    {
     "name": "stdout",
     "output_type": "stream",
     "text": [
      "Hello from python!\n"
     ]
    }
   ],
   "source": [
    "print(\"Hello from python!\")\n"
   ]
  },
  {
   "cell_type": "markdown",
   "metadata": {},
   "source": [
    "## Evaluation\n",
    "\n",
    "* loading data from oma.digital\n",
    "* login via tokens \n",
    "\n"
   ]
  },
  {
   "cell_type": "code",
   "execution_count": 35,
   "metadata": {
    "pycharm": {
     "name": "#%%\n"
    }
   },
   "outputs": [
    {
     "name": "stderr",
     "output_type": "stream",
     "text": [
      "/home/martin/Workspace/oma/jupyter-omaapi/JUPYTER/lib/python3.5/site-packages/ipykernel_launcher.py:131: RuntimeWarning: divide by zero encountered in reciprocal\n"
     ]
    },
    {
     "data": {
      "text/plain": "[<matplotlib.lines.Line2D at 0x7f7c189c19e8>]"
     },
     "execution_count": 35,
     "metadata": {},
     "output_type": "execute_result"
    },
    {
     "data": {
      "image/png": "[encoded data removed]",
      "text/plain": "<Figure size 432x288 with 1 Axes>"
     },
     "metadata": {
      "needs_background": "light"
     },
     "output_type": "display_data"
    }
   ],
   "source": [
    "__author__ = \"Martin Aigner\"\n",
    "\n",
    "import requests\n",
    "import json\n",
    "\n",
    "\n",
    "class Oma:\n",
    "    def __init__(self, endpoint, access_token, verify_certificate=True):\n",
    "        self.endpoint = endpoint\n",
    "        self.access_token = access_token\n",
    "        self.verify_certificate = verify_certificate\n",
    "        self.headers = {\n",
    "            'User-Agent': 'oma.py',\n",
    "            'Authorization': \"Bearer \" + access_token\n",
    "        }\n",
    "        self.config = {\n",
    "            \"api_path\": \"api/\",\n",
    "            \"cache_dir\": \"omacache\"\n",
    "        }\n",
    "        \n",
    "    def recording(self, id):\n",
    "        r = Recording(id, self)\n",
    "        r.get()\n",
    "        return r\n",
    "    \n",
    "    def composer(self, id):\n",
    "        c = Composer(id, self)\n",
    "        c.get()\n",
    "        return c\n",
    "\n",
    "    def annotation_session(self, id):\n",
    "        s = AnnotationSession(id, self)\n",
    "        s.get()\n",
    "        return s\n",
    "\n",
    "\n",
    "\n",
    "class ApiObject:\n",
    "    def __init__(self):\n",
    "        self.__data_cache = None\n",
    "        self.oma_login = None\n",
    "        self.params = {}\n",
    "\n",
    "    def get(self):\n",
    "        self.params[self.objectName] = self.id\n",
    "        url = self.oma_login.endpoint + self.oma_login.config[\"api_path\"] + self.objectName\n",
    "        response = requests.post(url, headers=self.oma_login.headers, data=self.params, verify=self.oma_login.verify_certificate)\n",
    "        # print(response.content.decode())\n",
    "        content = json.loads(response.content.decode())\n",
    "        self.__data_cache = content\n",
    "\n",
    "    def dictionary(self):\n",
    "        if self.__data_cache is None:\n",
    "            self.get()\n",
    "        return self.__data_cache\n",
    "\n",
    "\n",
    "class AnnotationSession(ApiObject):\n",
    "    def __init__(self, id, oma_login):\n",
    "        self.id = id\n",
    "        self.objectName = \"session\"\n",
    "        self.oma_login = oma_login\n",
    "        self.params = {\"method\": \"get\"}\n",
    "\n",
    "        \n",
    "class Recording(ApiObject):\n",
    "    def __init__(self, id, oma_login):\n",
    "        self.id = id\n",
    "        self.objectName = \"recording\"\n",
    "        self.oma_login = oma_login\n",
    "        self.params = {\"method\": \"get\"}\n",
    "\n",
    "    def get_annotation_sessions(self):\n",
    "        session = ApiObject()\n",
    "        session.params[\"method\"] = \"findBy\"\n",
    "        session.params[\"findBy\"] = \"recording\"\n",
    "        session.params[\"recording\"] = self.id\n",
    "        session.objectName = \"annotation\"\n",
    "        session.id = 0\n",
    "        session.oma_login = self.oma_login\n",
    "        session.get()\n",
    "        return session\n",
    "\n",
    "        \n",
    "class Composer(ApiObject):\n",
    "    def __init__(self, id, oma_login):\n",
    "        self.id = id\n",
    "        self.objectName = \"composer\"\n",
    "        self.oma_login = oma_login\n",
    "        self.params = {\"method\": \"get\"}\n",
    "\n",
    "        \n",
    "\n",
    "url = \"http://localhost:8080/\"\n",
    "token = \"4fdnupfvk379b52n00m35n1s5jqtc31s\"\n",
    "\n",
    "oma = Oma(url, token)\n",
    "recording = oma.recording(187642)\n",
    "#oma.composer(187593)\n",
    "\n",
    "sessions = recording.get_annotation_sessions()\n",
    "\n",
    "sessions_data = sessions.dictionary()\n",
    "sessions_data\n",
    "\n",
    "session = oma.annotation_session(187979)\n",
    "annotations = session.dictionary()[\"annotations\"]\n",
    "\n",
    "import pandas as pd\n",
    "import numpy as np\n",
    "\n",
    "df1 = pd.DataFrame(annotations)\n",
    "df1\n",
    "time_series = df1[\"barNumber\"].to_numpy()\n",
    "value_series = df1[\"momentOfPerception\"].to_numpy()\n",
    "\n",
    "value_series\n",
    "previous_bar_durations = np.zeros(len(value_series))\n",
    "for i in range(len(value_series)):\n",
    "    if i == 0:\n",
    "        subtract = value_series[i]\n",
    "    else:\n",
    "        subtract = value_series[i-1]\n",
    "    previous_bar_durations[i] = value_series[i] - subtract\n",
    "\n",
    "previous_bar_durations\n",
    "\n",
    "\n",
    "import matplotlib.pyplot as plt\n",
    "fig, ax = plt.subplots()\n",
    "ax.plot(time_series, np.reciprocal(previous_bar_durations))"
   ]
  },
  {
   "cell_type": "markdown",
   "source": [
    "\n",
    "\n",
    "\n"
   ],
   "metadata": {
    "collapsed": false
   }
  }
 ],
 "metadata": {
  "kernelspec": {
   "name": "pycharm-8b93f190",
   "language": "python",
   "display_name": "PyCharm (jupyter-omaapi)"
  },
  "language_info": {
   "codemirror_mode": {
    "name": "ipython",
    "version": 3
   },
   "file_extension": ".py",
   "mimetype": "text/x-python",
   "name": "python",
   "nbconvert_exporter": "python",
   "pygments_lexer": "ipython3",
   "version": "3.5.2"
  }
 },
 "nbformat": 4,
 "nbformat_minor": 4
}