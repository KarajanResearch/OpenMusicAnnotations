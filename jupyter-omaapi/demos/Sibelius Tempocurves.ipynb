{
 "cells": [
  {
   "cell_type": "markdown",
   "metadata": {},
   "source": [
    "# Terraces in the first Movement of Sibelius Symphony No. 6\n",
    "\n",
    "This is a demo project for oma.digital and omaPy.\n",
    "\n",
    "## Tutorial\n",
    "\n",
    "We compare tempo curves of different recordings.\n",
    "\n",
    "Example:\n",
    "http://localhost:8080/recording/show/187642"
   ]
  },
  {
   "cell_type": "markdown",
   "metadata": {
    "collapsed": false,
    "pycharm": {
     "name": "#%% md\n"
    }
   },
   "source": [
    "Let's see, if the system is running?"
   ]
  },
  {
   "cell_type": "code",
   "execution_count": 1,
   "metadata": {},
   "outputs": [
    {
     "name": "stdout",
     "output_type": "stream",
     "text": [
      "Hello from python!\n"
     ]
    }
   ],
   "source": [
    "# python online?\n",
    "print(\"Hello from python!\")"
   ]
  },
  {
   "cell_type": "code",
   "execution_count": 2,
   "metadata": {
    "pycharm": {
     "name": "#%%\n"
    }
   },
   "outputs": [
    {
     "data": {
      "text/plain": [
       "{'abstract_music_part': {'id': 187709},\n",
       " 'digital_audio': {'id': 187643},\n",
       " 'id': 187642,\n",
       " 'interpretation': {'id': 187708,\n",
       "  'title': 'Herbert von Karajan, 1955, Philharmonia'},\n",
       " 'title': 'Sibelius_Sym6_Karajan_PhilharmoniaO_1955_I_AudacityExport.wav'}"
      ]
     },
     "execution_count": 2,
     "metadata": {},
     "output_type": "execute_result"
    }
   ],
   "source": [
    "# Loading Beat Annotation Data from oma.digital\n",
    "# import omapy library\n",
    "from omapy import oma\n",
    "\n",
    "# specify the oma cloud you are using\n",
    "url = \"http://localhost:8080/\"\n",
    "# specify your security token from your web account\n",
    "token = \"4fdnupfvk379b52n00m35n1s5jqtc31s\"\n",
    "\n",
    "# oma provides a handle to omapy API features via Login()\n",
    "oma = oma.Login(url, token)\n",
    "\n",
    "# use the variable oma, the handle, to call API functionality\n",
    "# the function recording(id) provides access to the recording of given id\n",
    "recording = oma.recording(187642)\n",
    "\n",
    "# oma API objects provide a directory() function to fetch the data to a python dictionary\n",
    "recording.dictionary()"
   ]
  },
  {
   "cell_type": "markdown",
   "metadata": {
    "collapsed": false,
    "pycharm": {
     "name": "#%% md\n"
    }
   },
   "source": [
    "Example of recording.dictionary() output :\n",
    "```\n",
    "{'abstract_music_part': {'id': 187709},\n",
    " 'digital_audio': {'id': 187643},\n",
    " 'id': 187642,\n",
    " 'interpretation': {'id': 187708,\n",
    "  'title': 'Herbert von Karajan, 1955, Philharmonia'},\n",
    " 'title': 'Sibelius_Sym6_Karajan_PhilharmoniaO_1955_I_AudacityExport.wav'}\n",
    "```\n",
    "\n",
    "* 'id' is the identifier of the recording\n",
    "* 'title' is the title of the recording\n",
    "* 'interpretation'.'id' is the identifier of the interpretation\n",
    "* 'interpretation'.'title' is the title of the interpretation\n",
    "* 'digital_audio'.'id' is a reference to the actual WAV audio file\n",
    "* 'abstract_music_part'.'id' is a reference to interpretation details that can be described via standard music notation.\n",
    "\n",
    "We stick with the id and the title of the recording for now."
   ]
  },
  {
   "cell_type": "markdown",
   "metadata": {
    "collapsed": false,
    "pycharm": {
     "name": "#%% md\n"
    }
   },
   "source": [
    "Beat data in oma.digital is organized in so-called sessions (or annotation sessions). A recording may have many sessions.\n",
    "\n",
    "We use an API call to get the list of sessions for our recording"
   ]
  },
  {
   "cell_type": "code",
   "execution_count": 3,
   "metadata": {
    "collapsed": false,
    "pycharm": {
     "name": "#%%\n"
    }
   },
   "outputs": [
    {
     "data": {
      "text/plain": [
       "[{'id': 187979,\n",
       "  'title': 'Upload of Sibelius_Sym6_Karajan_1955_ganzt_fertig_I.csv'}]"
      ]
     },
     "execution_count": 3,
     "metadata": {},
     "output_type": "execute_result"
    }
   ],
   "source": [
    "sessions = recording.get_annotation_sessions()\n",
    "sessions.dictionary()"
   ]
  },
  {
   "cell_type": "markdown",
   "metadata": {
    "collapsed": false,
    "pycharm": {
     "name": "#%% md\n"
    }
   },
   "source": [
    "Example of sessions.dictionary() output :\n",
    "```\n",
    "[{'id': 187979,\n",
    "  'title': 'Upload of Sibelius_Sym6_Karajan_1955_ganzt_fertig_I.csv'}]\n",
    "```\n",
    "This is a list [] of directories {}\n",
    "\n",
    "We stick with the id of the session and use another API call to fetch the data (the annotations or beats) of that session."
   ]
  },
  {
   "cell_type": "code",
   "execution_count": 4,
   "metadata": {
    "collapsed": false,
    "pycharm": {
     "name": "#%%\n"
    }
   },
   "outputs": [
    {
     "data": {
      "text/plain": [
       "[{'barNumber': 1,\n",
       "  'beatNumber': 1,\n",
       "  'id': 187980,\n",
       "  'momentOfPerception': 2.600634921},\n",
       " {'barNumber': 2,\n",
       "  'beatNumber': 1,\n",
       "  'id': 187981,\n",
       "  'momentOfPerception': 5.026235828},\n",
       " {'barNumber': 3,\n",
       "  'beatNumber': 1,\n",
       "  'id': 187982,\n",
       "  'momentOfPerception': 7.689795918}]"
      ]
     },
     "execution_count": 4,
     "metadata": {},
     "output_type": "execute_result"
    }
   ],
   "source": [
    "# take the id of the first session\n",
    "my_session_id = sessions.dictionary()[0][\"id\"]\n",
    "\n",
    "# provide the id of the desired session to fetch the annotation session\n",
    "session = oma.annotation_session(my_session_id)\n",
    "# let's store the dict representation of a session to a new variable session_data\n",
    "session_data = session.dictionary()\n",
    "# and take only the annotations (they describe the beats) form the session_data\n",
    "annotations = session_data[\"annotations\"]\n",
    "# view the first 3 elements of annotations\n",
    "annotations[0:3]"
   ]
  },
  {
   "cell_type": "markdown",
   "metadata": {
    "collapsed": false,
    "pycharm": {
     "name": "#%% md\n"
    }
   },
   "source": [
    "Example:\n",
    "```\n",
    "[{'barNumber': 1,\n",
    "  'beatNumber': 1,\n",
    "  'id': 187980,\n",
    "  'momentOfPerception': 2.600634921},\n",
    " {'barNumber': 2,\n",
    "  'beatNumber': 1,\n",
    "  'id': 187981,\n",
    "  'momentOfPerception': 5.026235828},\n",
    " {'barNumber': 3,\n",
    "  'beatNumber': 1,\n",
    "  'id': 187982,\n",
    "  'momentOfPerception': 7.689795918}]\n",
    "```\n",
    "each annotation with given id describes the moment of perception of a given beat number at a given bar number\n",
    "\n",
    "We are interested in the tempo.\n",
    "The tempo per beat we define as 1/time per beat. Other definitions are possible, .e.g., beats per minute, but they are only proportionally different."
   ]
  },
  {
   "cell_type": "code",
   "execution_count": 5,
   "metadata": {
    "collapsed": false,
    "pycharm": {
     "name": "#%%\n"
    }
   },
   "outputs": [
    {
     "data": {
      "text/html": [
       "<div>\n",
       "<style scoped>\n",
       "    .dataframe tbody tr th:only-of-type {\n",
       "        vertical-align: middle;\n",
       "    }\n",
       "\n",
       "    .dataframe tbody tr th {\n",
       "        vertical-align: top;\n",
       "    }\n",
       "\n",
       "    .dataframe thead th {\n",
       "        text-align: right;\n",
       "    }\n",
       "</style>\n",
       "<table border=\"1\" class=\"dataframe\">\n",
       "  <thead>\n",
       "    <tr style=\"text-align: right;\">\n",
       "      <th></th>\n",
       "      <th>barNumber</th>\n",
       "      <th>beatNumber</th>\n",
       "      <th>id</th>\n",
       "      <th>momentOfPerception</th>\n",
       "    </tr>\n",
       "  </thead>\n",
       "  <tbody>\n",
       "    <tr>\n",
       "      <th>0</th>\n",
       "      <td>1</td>\n",
       "      <td>1</td>\n",
       "      <td>187980</td>\n",
       "      <td>2.600635</td>\n",
       "    </tr>\n",
       "    <tr>\n",
       "      <th>1</th>\n",
       "      <td>2</td>\n",
       "      <td>1</td>\n",
       "      <td>187981</td>\n",
       "      <td>5.026236</td>\n",
       "    </tr>\n",
       "    <tr>\n",
       "      <th>2</th>\n",
       "      <td>3</td>\n",
       "      <td>1</td>\n",
       "      <td>187982</td>\n",
       "      <td>7.689796</td>\n",
       "    </tr>\n",
       "    <tr>\n",
       "      <th>3</th>\n",
       "      <td>4</td>\n",
       "      <td>1</td>\n",
       "      <td>187983</td>\n",
       "      <td>10.759184</td>\n",
       "    </tr>\n",
       "    <tr>\n",
       "      <th>4</th>\n",
       "      <td>5</td>\n",
       "      <td>1</td>\n",
       "      <td>187984</td>\n",
       "      <td>13.583673</td>\n",
       "    </tr>\n",
       "  </tbody>\n",
       "</table>\n",
       "</div>"
      ],
      "text/plain": [
       "   barNumber  beatNumber      id  momentOfPerception\n",
       "0          1           1  187980            2.600635\n",
       "1          2           1  187981            5.026236\n",
       "2          3           1  187982            7.689796\n",
       "3          4           1  187983           10.759184\n",
       "4          5           1  187984           13.583673"
      ]
     },
     "execution_count": 5,
     "metadata": {},
     "output_type": "execute_result"
    }
   ],
   "source": [
    "# loading some libraries for working with numbers and data\n",
    "import pandas as pd\n",
    "import numpy as np\n",
    "\n",
    "# pandas is nice for processing table-like data in a structure called data frame\n",
    "# search the web for pandas\n",
    "data_frame = pd.DataFrame(annotations)\n",
    "# using the head() function to show the first couple of records\n",
    "data_frame.head()"
   ]
  },
  {
   "cell_type": "markdown",
   "metadata": {
    "collapsed": false,
    "pycharm": {
     "name": "#%% md\n"
    }
   },
   "source": [
    "We want to know the duration of each bar, so we filter out eyerything that is not a \"one beat\"."
   ]
  },
  {
   "cell_type": "code",
   "execution_count": 6,
   "metadata": {
    "collapsed": false,
    "pycharm": {
     "name": "#%%\n"
    }
   },
   "outputs": [
    {
     "data": {
      "text/html": [
       "<div>\n",
       "<style scoped>\n",
       "    .dataframe tbody tr th:only-of-type {\n",
       "        vertical-align: middle;\n",
       "    }\n",
       "\n",
       "    .dataframe tbody tr th {\n",
       "        vertical-align: top;\n",
       "    }\n",
       "\n",
       "    .dataframe thead th {\n",
       "        text-align: right;\n",
       "    }\n",
       "</style>\n",
       "<table border=\"1\" class=\"dataframe\">\n",
       "  <thead>\n",
       "    <tr style=\"text-align: right;\">\n",
       "      <th></th>\n",
       "      <th>barNumber</th>\n",
       "      <th>beatNumber</th>\n",
       "      <th>id</th>\n",
       "      <th>momentOfPerception</th>\n",
       "    </tr>\n",
       "  </thead>\n",
       "  <tbody>\n",
       "    <tr>\n",
       "      <th>0</th>\n",
       "      <td>1</td>\n",
       "      <td>1</td>\n",
       "      <td>187980</td>\n",
       "      <td>2.600635</td>\n",
       "    </tr>\n",
       "    <tr>\n",
       "      <th>1</th>\n",
       "      <td>2</td>\n",
       "      <td>1</td>\n",
       "      <td>187981</td>\n",
       "      <td>5.026236</td>\n",
       "    </tr>\n",
       "    <tr>\n",
       "      <th>2</th>\n",
       "      <td>3</td>\n",
       "      <td>1</td>\n",
       "      <td>187982</td>\n",
       "      <td>7.689796</td>\n",
       "    </tr>\n",
       "    <tr>\n",
       "      <th>3</th>\n",
       "      <td>4</td>\n",
       "      <td>1</td>\n",
       "      <td>187983</td>\n",
       "      <td>10.759184</td>\n",
       "    </tr>\n",
       "    <tr>\n",
       "      <th>4</th>\n",
       "      <td>5</td>\n",
       "      <td>1</td>\n",
       "      <td>187984</td>\n",
       "      <td>13.583673</td>\n",
       "    </tr>\n",
       "  </tbody>\n",
       "</table>\n",
       "</div>"
      ],
      "text/plain": [
       "   barNumber  beatNumber      id  momentOfPerception\n",
       "0          1           1  187980            2.600635\n",
       "1          2           1  187981            5.026236\n",
       "2          3           1  187982            7.689796\n",
       "3          4           1  187983           10.759184\n",
       "4          5           1  187984           13.583673"
      ]
     },
     "execution_count": 6,
     "metadata": {},
     "output_type": "execute_result"
    }
   ],
   "source": [
    "# this creates a true/false filter on the beatNumber\n",
    "one_beats = data_frame['beatNumber'] == 1\n",
    "# using this filter, we select only True rows from the data_frame\n",
    "one_beats_only = data_frame[one_beats]\n",
    "one_beats_only.head()"
   ]
  },
  {
   "cell_type": "code",
   "execution_count": 7,
   "metadata": {
    "collapsed": false,
    "pycharm": {
     "name": "#%%\n"
    }
   },
   "outputs": [
    {
     "data": {
      "text/html": [
       "<div>\n",
       "<style scoped>\n",
       "    .dataframe tbody tr th:only-of-type {\n",
       "        vertical-align: middle;\n",
       "    }\n",
       "\n",
       "    .dataframe tbody tr th {\n",
       "        vertical-align: top;\n",
       "    }\n",
       "\n",
       "    .dataframe thead th {\n",
       "        text-align: right;\n",
       "    }\n",
       "</style>\n",
       "<table border=\"1\" class=\"dataframe\">\n",
       "  <thead>\n",
       "    <tr style=\"text-align: right;\">\n",
       "      <th></th>\n",
       "      <th>barNumber</th>\n",
       "      <th>beatNumber</th>\n",
       "      <th>id</th>\n",
       "      <th>momentOfPerception</th>\n",
       "      <th>barDuration</th>\n",
       "    </tr>\n",
       "  </thead>\n",
       "  <tbody>\n",
       "    <tr>\n",
       "      <th>0</th>\n",
       "      <td>1</td>\n",
       "      <td>1</td>\n",
       "      <td>187980</td>\n",
       "      <td>2.600635</td>\n",
       "      <td>0.0</td>\n",
       "    </tr>\n",
       "    <tr>\n",
       "      <th>1</th>\n",
       "      <td>2</td>\n",
       "      <td>1</td>\n",
       "      <td>187981</td>\n",
       "      <td>5.026236</td>\n",
       "      <td>0.0</td>\n",
       "    </tr>\n",
       "    <tr>\n",
       "      <th>2</th>\n",
       "      <td>3</td>\n",
       "      <td>1</td>\n",
       "      <td>187982</td>\n",
       "      <td>7.689796</td>\n",
       "      <td>0.0</td>\n",
       "    </tr>\n",
       "    <tr>\n",
       "      <th>3</th>\n",
       "      <td>4</td>\n",
       "      <td>1</td>\n",
       "      <td>187983</td>\n",
       "      <td>10.759184</td>\n",
       "      <td>0.0</td>\n",
       "    </tr>\n",
       "    <tr>\n",
       "      <th>4</th>\n",
       "      <td>5</td>\n",
       "      <td>1</td>\n",
       "      <td>187984</td>\n",
       "      <td>13.583673</td>\n",
       "      <td>0.0</td>\n",
       "    </tr>\n",
       "  </tbody>\n",
       "</table>\n",
       "</div>"
      ],
      "text/plain": [
       "   barNumber  beatNumber      id  momentOfPerception  barDuration\n",
       "0          1           1  187980            2.600635          0.0\n",
       "1          2           1  187981            5.026236          0.0\n",
       "2          3           1  187982            7.689796          0.0\n",
       "3          4           1  187983           10.759184          0.0\n",
       "4          5           1  187984           13.583673          0.0"
      ]
     },
     "execution_count": 7,
     "metadata": {},
     "output_type": "execute_result"
    }
   ],
   "source": [
    "# add another column to the data frame.\n",
    "# how big is our data frame?\n",
    "# take one column and use shape to get the number of row\n",
    "\n",
    "column_shape = one_beats_only['id'].shape\n",
    "# use this shape with np.zeros() to create a column containing zeros\n",
    "# and apply this column to the data frame with title \"barDuration\"\n",
    "one_beats_only['barDuration'] = np.zeros(column_shape)\n",
    "one_beats_only.head()"
   ]
  },
  {
   "cell_type": "code",
   "execution_count": 8,
   "metadata": {
    "collapsed": false,
    "pycharm": {
     "name": "#%%\n"
    }
   },
   "outputs": [
    {
     "data": {
      "text/html": [
       "<div>\n",
       "<style scoped>\n",
       "    .dataframe tbody tr th:only-of-type {\n",
       "        vertical-align: middle;\n",
       "    }\n",
       "\n",
       "    .dataframe tbody tr th {\n",
       "        vertical-align: top;\n",
       "    }\n",
       "\n",
       "    .dataframe thead th {\n",
       "        text-align: right;\n",
       "    }\n",
       "</style>\n",
       "<table border=\"1\" class=\"dataframe\">\n",
       "  <thead>\n",
       "    <tr style=\"text-align: right;\">\n",
       "      <th></th>\n",
       "      <th>barNumber</th>\n",
       "      <th>beatNumber</th>\n",
       "      <th>id</th>\n",
       "      <th>momentOfPerception</th>\n",
       "      <th>barDuration</th>\n",
       "    </tr>\n",
       "  </thead>\n",
       "  <tbody>\n",
       "    <tr>\n",
       "      <th>0</th>\n",
       "      <td>1</td>\n",
       "      <td>1</td>\n",
       "      <td>187980</td>\n",
       "      <td>2.600635</td>\n",
       "      <td>2.425601</td>\n",
       "    </tr>\n",
       "    <tr>\n",
       "      <th>1</th>\n",
       "      <td>2</td>\n",
       "      <td>1</td>\n",
       "      <td>187981</td>\n",
       "      <td>5.026236</td>\n",
       "      <td>2.663560</td>\n",
       "    </tr>\n",
       "    <tr>\n",
       "      <th>2</th>\n",
       "      <td>3</td>\n",
       "      <td>1</td>\n",
       "      <td>187982</td>\n",
       "      <td>7.689796</td>\n",
       "      <td>3.069388</td>\n",
       "    </tr>\n",
       "    <tr>\n",
       "      <th>3</th>\n",
       "      <td>4</td>\n",
       "      <td>1</td>\n",
       "      <td>187983</td>\n",
       "      <td>10.759184</td>\n",
       "      <td>2.824490</td>\n",
       "    </tr>\n",
       "    <tr>\n",
       "      <th>4</th>\n",
       "      <td>5</td>\n",
       "      <td>1</td>\n",
       "      <td>187984</td>\n",
       "      <td>13.583673</td>\n",
       "      <td>2.939501</td>\n",
       "    </tr>\n",
       "  </tbody>\n",
       "</table>\n",
       "</div>"
      ],
      "text/plain": [
       "   barNumber  beatNumber      id  momentOfPerception  barDuration\n",
       "0          1           1  187980            2.600635     2.425601\n",
       "1          2           1  187981            5.026236     2.663560\n",
       "2          3           1  187982            7.689796     3.069388\n",
       "3          4           1  187983           10.759184     2.824490\n",
       "4          5           1  187984           13.583673     2.939501"
      ]
     },
     "execution_count": 8,
     "metadata": {},
     "output_type": "execute_result"
    }
   ],
   "source": [
    "# iterate the table to calculate the barDuration. skip the last row\n",
    "# because the last beat's duration cannot be calculated\n",
    "for row_index in range(column_shape[0] - 1):\n",
    "    #current_bar_start = one_beats_only[\"momentOfPerception\"][row_index]\n",
    "    current_bar_start = one_beats_only.iloc[row_index, 3]\n",
    "    next_bar_start = one_beats_only.iloc[row_index + 1, 3]\n",
    "    duration = next_bar_start - current_bar_start\n",
    "    #write back result\n",
    "    one_beats_only.iloc[row_index, 4] = duration\n",
    "\n",
    "one_beats_only.head()"
   ]
  },
  {
   "cell_type": "code",
   "execution_count": 9,
   "metadata": {
    "collapsed": false,
    "pycharm": {
     "name": "#%%\n"
    }
   },
   "outputs": [
    {
     "name": "stderr",
     "output_type": "stream",
     "text": [
      "/home/martin/Workspace/oma/jupyter-omaapi/JUPYTER/lib/python3.5/site-packages/ipykernel_launcher.py:7: RuntimeWarning: divide by zero encountered in reciprocal\n",
      "  import sys\n"
     ]
    },
    {
     "data": {
      "text/html": [
       "<div>\n",
       "<style scoped>\n",
       "    .dataframe tbody tr th:only-of-type {\n",
       "        vertical-align: middle;\n",
       "    }\n",
       "\n",
       "    .dataframe tbody tr th {\n",
       "        vertical-align: top;\n",
       "    }\n",
       "\n",
       "    .dataframe thead th {\n",
       "        text-align: right;\n",
       "    }\n",
       "</style>\n",
       "<table border=\"1\" class=\"dataframe\">\n",
       "  <thead>\n",
       "    <tr style=\"text-align: right;\">\n",
       "      <th></th>\n",
       "      <th>barNumber</th>\n",
       "      <th>beatNumber</th>\n",
       "      <th>id</th>\n",
       "      <th>momentOfPerception</th>\n",
       "      <th>barDuration</th>\n",
       "      <th>barTempo</th>\n",
       "    </tr>\n",
       "  </thead>\n",
       "  <tbody>\n",
       "    <tr>\n",
       "      <th>0</th>\n",
       "      <td>1</td>\n",
       "      <td>1</td>\n",
       "      <td>187980</td>\n",
       "      <td>2.600635</td>\n",
       "      <td>2.425601</td>\n",
       "      <td>0.412269</td>\n",
       "    </tr>\n",
       "    <tr>\n",
       "      <th>1</th>\n",
       "      <td>2</td>\n",
       "      <td>1</td>\n",
       "      <td>187981</td>\n",
       "      <td>5.026236</td>\n",
       "      <td>2.663560</td>\n",
       "      <td>0.375437</td>\n",
       "    </tr>\n",
       "    <tr>\n",
       "      <th>2</th>\n",
       "      <td>3</td>\n",
       "      <td>1</td>\n",
       "      <td>187982</td>\n",
       "      <td>7.689796</td>\n",
       "      <td>3.069388</td>\n",
       "      <td>0.325798</td>\n",
       "    </tr>\n",
       "    <tr>\n",
       "      <th>3</th>\n",
       "      <td>4</td>\n",
       "      <td>1</td>\n",
       "      <td>187983</td>\n",
       "      <td>10.759184</td>\n",
       "      <td>2.824490</td>\n",
       "      <td>0.354046</td>\n",
       "    </tr>\n",
       "    <tr>\n",
       "      <th>4</th>\n",
       "      <td>5</td>\n",
       "      <td>1</td>\n",
       "      <td>187984</td>\n",
       "      <td>13.583673</td>\n",
       "      <td>2.939501</td>\n",
       "      <td>0.340194</td>\n",
       "    </tr>\n",
       "  </tbody>\n",
       "</table>\n",
       "</div>"
      ],
      "text/plain": [
       "   barNumber  beatNumber      id  momentOfPerception  barDuration  barTempo\n",
       "0          1           1  187980            2.600635     2.425601  0.412269\n",
       "1          2           1  187981            5.026236     2.663560  0.375437\n",
       "2          3           1  187982            7.689796     3.069388  0.325798\n",
       "3          4           1  187983           10.759184     2.824490  0.354046\n",
       "4          5           1  187984           13.583673     2.939501  0.340194"
      ]
     },
     "execution_count": 9,
     "metadata": {},
     "output_type": "execute_result"
    }
   ],
   "source": [
    "# add another column for the inverse value.\n",
    "# this time using some numpy features.\n",
    "# search the web for numpy\n",
    "\n",
    "# \"slice\" the column with the barDuration and convert it to a numpy array\n",
    "durations = one_beats_only[\"barDuration\"].to_numpy()\n",
    "tempos = np.reciprocal(durations)\n",
    "# add the tempos. np arrays can be added as columns\n",
    "one_beats_only[\"barTempo\"] = tempos\n",
    "one_beats_only.head()"
   ]
  },
  {
   "cell_type": "code",
   "execution_count": 17,
   "metadata": {
    "collapsed": false,
    "pycharm": {
     "name": "#%%\n"
    }
   },
   "outputs": [
    {
     "data": {
      "text/plain": [
       "[<matplotlib.lines.Line2D at 0x7f1766c0a710>]"
      ]
     },
     "execution_count": 17,
     "metadata": {},
     "output_type": "execute_result"
    },
    {
     "data": {
      "image/png": "[encoded data removed]",
      "text/plain": [
       "<Figure size 432x288 with 1 Axes>"
      ]
     },
     "metadata": {
      "needs_background": "light"
     },
     "output_type": "display_data"
    }
   ],
   "source": [
    "# plot the tempo curve\n",
    "# x and y axes can be numpy arrays too\n",
    "x_axis = one_beats_only[\"barNumber\"].to_numpy()\n",
    "y_axis = one_beats_only[\"barTempo\"].to_numpy()\n",
    "\n",
    "# import plotting library\n",
    "import matplotlib.pyplot as plt\n",
    "# search the web for matplotlib\n",
    "fig, ax = plt.subplots()\n",
    "ax.set_xlabel(\"bar number\")\n",
    "ax.set_ylabel(\"tempo in bars per second\")\n",
    "ax.set_ylim([0,0.8])\n",
    "ax.plot(x_axis, y_axis)"
   ]
  },
  {
   "cell_type": "markdown",
   "metadata": {
    "collapsed": false
   },
   "source": [
    "\n",
    "\n",
    "\n"
   ]
  }
 ],
 "metadata": {
  "kernelspec": {
   "display_name": "Python 3.5.2 ('NOTEBOOK': virtualenv)",
   "language": "python",
   "name": "python3"
  },
  "language_info": {
   "codemirror_mode": {
    "name": "ipython",
    "version": 3
   },
   "file_extension": ".py",
   "mimetype": "text/x-python",
   "name": "python",
   "nbconvert_exporter": "python",
   "pygments_lexer": "ipython3",
   "version": "3.5.2"
  },
  "vscode": {
   "interpreter": {
    "hash": "cc9102a715a46b4d125476dfcaebe925ca739632e35bfafb97e0afcc4addc7bd"
   }
  }
 },
 "nbformat": 4,
 "nbformat_minor": 4
}
