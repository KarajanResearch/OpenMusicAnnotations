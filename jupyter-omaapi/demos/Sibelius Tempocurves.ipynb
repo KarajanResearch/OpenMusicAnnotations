{
 "cells": [
  {
   "cell_type": "markdown",
   "metadata": {},
   "source": [
    "# Terraces in the first Movement of Sibelius Symphony No. 6\n",
    "\n",
    "This is a demo project for oma.digital and omaPy.\n",
    "\n",
    "## Introduction\n",
    "\n",
    "We compare tempo curves of different recordings.\n",
    "\n",
    "Example:\n",
    "http://localhost:8080/recording/show/187642\n"
   ]
  },
  {
   "cell_type": "code",
   "execution_count": 3,
   "metadata": {},
   "outputs": [
    {
     "name": "stdout",
     "output_type": "stream",
     "text": [
      "Hello from python!\n"
     ]
    }
   ],
   "source": [
    "# python online?\n",
    "print(\"Hello from python!\")"
   ]
  },
  {
   "cell_type": "code",
   "metadata": {
    "pycharm": {
     "name": "#%%\n"
    }
   },
   "source": [
    "# Loading Beat Annotation Data from oma.digital\n",
    "# import omapy library\n",
    "from omapy import oma\n",
    "\n",
    "# specify the oma cloud you are using\n",
    "url = \"http://localhost:8080/\"\n",
    "# specify your security token from your web account\n",
    "token = \"4fdnupfvk379b52n00m35n1s5jqtc31s\"\n",
    "\n",
    "# oma provides a handle to omapy API features via Login()\n",
    "oma = oma.Login(url, token)\n",
    "\n",
    "# use the variable oma, the handle, to call API functionality\n",
    "# the function recording(id) provides access to the recording of given id\n",
    "recording = oma.recording(187642)\n",
    "\n",
    "# oma API objects provide a directory() function to fetch the data to a python dictionary\n",
    "recording.dictionary()"
   ],
   "execution_count": 4,
   "outputs": [
    {
     "data": {
      "text/plain": "{'abstract_music_part': {'id': 187709},\n 'digital_audio': {'id': 187643},\n 'id': 187642,\n 'interpretation': {'id': 187708,\n  'title': 'Herbert von Karajan, 1955, Philharmonia'},\n 'title': 'Sibelius_Sym6_Karajan_PhilharmoniaO_1955_I_AudacityExport.wav'}"
     },
     "execution_count": 4,
     "metadata": {},
     "output_type": "execute_result"
    }
   ]
  },
  {
   "cell_type": "markdown",
   "source": [
    "Example of recording.dictionary() output :\n",
    "```\n",
    "{'abstract_music_part': {'id': 187709},\n",
    " 'digital_audio': {'id': 187643},\n",
    " 'id': 187642,\n",
    " 'interpretation': {'id': 187708,\n",
    "  'title': 'Herbert von Karajan, 1955, Philharmonia'},\n",
    " 'title': 'Sibelius_Sym6_Karajan_PhilharmoniaO_1955_I_AudacityExport.wav'}\n",
    "```\n",
    "\n",
    "* 'id' is the identifier of the recording\n",
    "* 'title' is the title of the recording\n",
    "* 'interpretation'.'id' is the identifier of the interpretation\n",
    "* 'interpretation'.'title' is the title of the interpretation\n",
    "* 'abstract_music_part'.'id' is a reference to interpretation details that can be described via standard music notation."
   ],
   "metadata": {
    "collapsed": false,
    "pycharm": {
     "name": "#%% md\n"
    }
   }
  },
  {
   "cell_type": "code",
   "execution_count": null,
   "outputs": [],
   "source": [
    "sessions = recording.get_annotation_sessions()\n",
    "\n",
    "sessions_data = sessions.dictionary()\n",
    "sessions_data\n",
    "\n",
    "session = oma.annotation_session(187979)\n",
    "annotations = session.dictionary()[\"annotations\"]\n",
    "\n",
    "import pandas as pd\n",
    "import numpy as np\n",
    "\n",
    "df1 = pd.DataFrame(annotations)\n",
    "df1\n",
    "time_series = df1[\"barNumber\"].to_numpy()\n",
    "value_series = df1[\"momentOfPerception\"].to_numpy()\n",
    "\n",
    "value_series\n",
    "previous_bar_durations = np.zeros(len(value_series))\n",
    "for i in range(len(value_series)):\n",
    "    if i == 0:\n",
    "        subtract = value_series[i]\n",
    "    else:\n",
    "        subtract = value_series[i-1]\n",
    "    previous_bar_durations[i] = value_series[i] - subtract\n",
    "\n",
    "previous_bar_durations\n",
    "\n",
    "\n",
    "import matplotlib.pyplot as plt\n",
    "fig, ax = plt.subplots()\n",
    "ax.plot(time_series, np.reciprocal(previous_bar_durations))"
   ],
   "metadata": {
    "collapsed": false,
    "pycharm": {
     "name": "#%%\n"
    }
   }
  },
  {
   "cell_type": "markdown",
   "source": [
    "\n",
    "\n",
    "\n"
   ],
   "metadata": {
    "collapsed": false
   }
  }
 ],
 "metadata": {
  "kernelspec": {
   "name": "pycharm-8b93f190",
   "language": "python",
   "display_name": "PyCharm (jupyter-omaapi)"
  },
  "language_info": {
   "codemirror_mode": {
    "name": "ipython",
    "version": 3
   },
   "file_extension": ".py",
   "mimetype": "text/x-python",
   "name": "python",
   "nbconvert_exporter": "python",
   "pygments_lexer": "ipython3",
   "version": "3.5.2"
  }
 },
 "nbformat": 4,
 "nbformat_minor": 4
}