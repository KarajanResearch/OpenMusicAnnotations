{
 "cells": [
  {
   "cell_type": "code",
   "execution_count": 4,
   "outputs": [
    {
     "data": {
      "text/html": "<div>\n<style scoped>\n    .dataframe tbody tr th:only-of-type {\n        vertical-align: middle;\n    }\n\n    .dataframe tbody tr th {\n        vertical-align: top;\n    }\n\n    .dataframe thead th {\n        text-align: right;\n    }\n</style>\n<table border=\"1\" class=\"dataframe\">\n  <thead>\n    <tr style=\"text-align: right;\">\n      <th></th>\n      <th>0</th>\n    </tr>\n  </thead>\n  <tbody>\n    <tr>\n      <th>0</th>\n      <td>&lt;omapy.oma.Recording object at 0x7f617a620240&gt;</td>\n    </tr>\n    <tr>\n      <th>1</th>\n      <td>&lt;omapy.oma.Recording object at 0x7f61b8b6f128&gt;</td>\n    </tr>\n    <tr>\n      <th>2</th>\n      <td>&lt;omapy.oma.Recording object at 0x7f617a6ad0b8&gt;</td>\n    </tr>\n    <tr>\n      <th>3</th>\n      <td>&lt;omapy.oma.Recording object at 0x7f617a6acdd8&gt;</td>\n    </tr>\n    <tr>\n      <th>4</th>\n      <td>&lt;omapy.oma.Recording object at 0x7f617a6af128&gt;</td>\n    </tr>\n  </tbody>\n</table>\n</div>",
      "text/plain": "                                                0\n0  <omapy.oma.Recording object at 0x7f617a620240>\n1  <omapy.oma.Recording object at 0x7f61b8b6f128>\n2  <omapy.oma.Recording object at 0x7f617a6ad0b8>\n3  <omapy.oma.Recording object at 0x7f617a6acdd8>\n4  <omapy.oma.Recording object at 0x7f617a6af128>"
     },
     "execution_count": 4,
     "metadata": {},
     "output_type": "execute_result"
    }
   ],
   "source": [
    "# Loading Beat Annotation Data from oma.digital\n",
    "# import omapy library\n",
    "from omapy import oma\n",
    "import pandas as pd\n",
    "\n",
    "# specify the oma cloud you are using\n",
    "url = \"https://oma.digital/\"\n",
    "# specify your security token from your web account\n",
    "token = \"uvmg82kmatt4hruacmi39d47hhvnpkp5\"\n",
    "\n",
    "# oma provides a handle to omapy API features via Login()\n",
    "oma = oma.Login(url, token)\n",
    "\n",
    "recording_ids = [189068, 189072, 189096, 189114, 189123, 189518, 189141, 189147]\n",
    "\n",
    "recordings = []\n",
    "for recording_id in recording_ids:\n",
    "    recordings.append(oma.recording(recording_id))\n",
    "\n",
    "recordings\n"
   ],
   "metadata": {
    "collapsed": false,
    "pycharm": {
     "name": "#%%\n"
    }
   }
  },
  {
   "cell_type": "code",
   "execution_count": 10,
   "outputs": [
    {
     "name": "stdout",
     "output_type": "stream",
     "text": [
      "       id                                              title\n",
      "0  194060  Sibelius_Sym6_Beecham_HelsinkiPO_1954live_yout...\n",
      "       id                                              title\n",
      "0  195128  Sibelius_Sym6_Beecham_HelsinkiPO_1954live_yout...\n",
      "       id                                           title\n",
      "0  191657  Sibelius_Sym6_Ashkenazy_1984_ganz_fertig_I.csv\n",
      "       id                                             title\n",
      "0  193526  Sibelius_Sym6_JärviNeeme_2005_ganzt_fertig_I.csv\n",
      "       id                                              title\n",
      "0  189158  Upload of Sibelius_Sym6_Karajan_1967_ganzt_fer...\n",
      "       id                                          title\n",
      "0  189520  Sibelius_Sym6_Karajan_1980_ganzt_fertig_I.csv\n",
      "       id                                              title\n",
      "0  191390  Sibelius_Sym6_Schneevoigt_1934_ganzt_fertig_I.csv\n",
      "       id                                         title\n",
      "0  192725  Sibelius_Sym6_Vänskä_1997_ganzt_fertig_I.csv\n"
     ]
    }
   ],
   "source": [
    "sessions = []\n",
    "for recording in recordings:\n",
    "    recording_sessions = recording.get_annotation_sessions()\n",
    "    sessions.append(recording_sessions.dictionary())\n",
    "\n",
    "pd.DataFrame(sessions).head()\n",
    "\n",
    "for session in sessions:\n",
    "    print(pd.DataFrame(session).head())\n",
    "\n"
   ],
   "metadata": {
    "collapsed": false,
    "pycharm": {
     "name": "#%%\n"
    }
   }
  },
  {
   "cell_type": "code",
   "execution_count": null,
   "outputs": [],
   "source": [
    "# take the id of the first session\n",
    "my_session_id = sessions.dictionary()[0][\"id\"]\n",
    "\n",
    "# provide the id of the desired session to fetch the annotation session\n",
    "session = oma.annotation_session(my_session_id)\n",
    "# let's store the dict representation of a session to a new variable session_data\n",
    "session_data = session.dictionary()\n",
    "# and take only the annotations (they describe the beats) form the session_data\n",
    "annotations = session_data[\"annotations\"]\n",
    "# view the first 3 elements of annotations\n",
    "annotations[0:3]"
   ],
   "metadata": {
    "collapsed": false,
    "pycharm": {
     "name": "#%%\n"
    }
   }
  },
  {
   "cell_type": "markdown",
   "source": [
    "Example:\n",
    "```\n",
    "[{'barNumber': 1,\n",
    "  'beatNumber': 1,\n",
    "  'id': 187980,\n",
    "  'momentOfPerception': 2.600634921},\n",
    " {'barNumber': 2,\n",
    "  'beatNumber': 1,\n",
    "  'id': 187981,\n",
    "  'momentOfPerception': 5.026235828},\n",
    " {'barNumber': 3,\n",
    "  'beatNumber': 1,\n",
    "  'id': 187982,\n",
    "  'momentOfPerception': 7.689795918}]\n",
    "```\n",
    "each annotation with given id describes the moment of perception of a given beat number at a given bar number\n",
    "\n",
    "We are interested in the tempo.\n",
    "The tempo per beat we define as 1/time per beat. Other definitions are possible, .e.g., beats per minute, but they are only proportionally different."
   ],
   "metadata": {
    "collapsed": false
   }
  },
  {
   "cell_type": "code",
   "execution_count": null,
   "outputs": [],
   "source": [
    "# loading some libraries for working with numbers and data\n",
    "import pandas as pd\n",
    "import numpy as np\n",
    "\n",
    "# pandas is nice for processing table-like data in a structure called data frame\n",
    "# search the web for pandas\n",
    "data_frame = pd.DataFrame(annotations)\n",
    "# using the head() function to show the first couple of records\n",
    "data_frame.head()"
   ],
   "metadata": {
    "collapsed": false,
    "pycharm": {
     "name": "#%%\n"
    }
   }
  },
  {
   "cell_type": "markdown",
   "source": [
    "We want to know the duration of each bar, so we filter out eyerything that is not a \"one beat\"."
   ],
   "metadata": {
    "collapsed": false
   }
  },
  {
   "cell_type": "code",
   "execution_count": null,
   "outputs": [],
   "source": [
    "# this creates a true/false filter on the beatNumber\n",
    "one_beats = data_frame['beatNumber'] == 1\n",
    "# using this filter, we select only True rows from the data_frame\n",
    "one_beats_only = data_frame[one_beats]\n",
    "one_beats_only.head()"
   ],
   "metadata": {
    "collapsed": false,
    "pycharm": {
     "name": "#%%\n"
    }
   }
  },
  {
   "cell_type": "code",
   "execution_count": null,
   "outputs": [],
   "source": [
    "# add another column to the data frame.\n",
    "# how big is our data frame?\n",
    "# take one column and use shape to get the number of row\n",
    "\n",
    "column_shape = one_beats_only['id'].shape\n",
    "# use this shape with np.zeros() to create a column containing zeros\n",
    "# and apply this column to the data frame with title \"barDuration\"\n",
    "one_beats_only['barDuration'] = np.zeros(column_shape)\n",
    "one_beats_only.head()"
   ],
   "metadata": {
    "collapsed": false,
    "pycharm": {
     "name": "#%%\n"
    }
   }
  },
  {
   "cell_type": "code",
   "execution_count": null,
   "outputs": [],
   "source": [
    "# iterate the table to calculate the barDuration. skip the last row\n",
    "# because the last beat's duration cannot be calculated\n",
    "for row_index in range(column_shape[0] - 1):\n",
    "    #current_bar_start = one_beats_only[\"momentOfPerception\"][row_index]\n",
    "    current_bar_start = one_beats_only.iloc[row_index, 3]\n",
    "    next_bar_start = one_beats_only.iloc[row_index + 1, 3]\n",
    "    duration = next_bar_start - current_bar_start\n",
    "    #write back result\n",
    "    one_beats_only.iloc[row_index, 4] = duration\n",
    "\n",
    "one_beats_only.head()"
   ],
   "metadata": {
    "collapsed": false,
    "pycharm": {
     "name": "#%%\n"
    }
   }
  },
  {
   "cell_type": "code",
   "execution_count": null,
   "outputs": [],
   "source": [
    "# add another column for the inverse value.\n",
    "# this time using some numpy features.\n",
    "# search the web for numpy\n",
    "\n",
    "# \"slice\" the column with the barDuration and convert it to a numpy array\n",
    "durations = one_beats_only[\"barDuration\"].to_numpy()\n",
    "tempos = np.reciprocal(durations)\n",
    "# add the tempos. np arrays can be added as columns\n",
    "one_beats_only[\"barTempo\"] = tempos\n",
    "one_beats_only.head()"
   ],
   "metadata": {
    "collapsed": false,
    "pycharm": {
     "name": "#%%\n"
    }
   }
  },
  {
   "cell_type": "code",
   "execution_count": null,
   "outputs": [],
   "source": [
    "# plot the tempo curve\n",
    "# x and y axes can be numpy arrays too\n",
    "x_axis = one_beats_only[\"barNumber\"].to_numpy()\n",
    "y_axis = one_beats_only[\"barTempo\"].to_numpy()\n",
    "\n",
    "# import plotting library\n",
    "import matplotlib.pyplot as plt\n",
    "# search the web for matplotlib\n",
    "fig, ax = plt.subplots()\n",
    "ax.set_xlabel(\"bar number\")\n",
    "ax.set_ylabel(\"tempo in bars per second\")\n",
    "ax.set_ylim([0,0.8])\n",
    "ax.plot(x_axis, y_axis)"
   ],
   "metadata": {
    "collapsed": false,
    "pycharm": {
     "name": "#%%\n"
    }
   }
  },
  {
   "cell_type": "markdown",
   "source": [
    "\n",
    "\n",
    "\n",
    "\n",
    "\n"
   ],
   "metadata": {
    "collapsed": false
   }
  }
 ],
 "metadata": {
  "kernelspec": {
   "name": "pycharm-8b93f190",
   "language": "python",
   "display_name": "PyCharm (jupyter-omaapi)"
  },
  "language_info": {
   "codemirror_mode": {
    "name": "ipython",
    "version": 2
   },
   "file_extension": ".py",
   "mimetype": "text/x-python",
   "name": "python",
   "nbconvert_exporter": "python",
   "pygments_lexer": "ipython2",
   "version": "2.7.6"
  }
 },
 "nbformat": 4,
 "nbformat_minor": 0
}