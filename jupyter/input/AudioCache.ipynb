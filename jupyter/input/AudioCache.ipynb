{
 "cells": [
  {
   "cell_type": "markdown",
   "metadata": {},
   "source": [
    "# Using local storage as audio cache"
   ]
  },
  {
   "cell_type": "code",
   "execution_count": 1,
   "metadata": {},
   "outputs": [
    {
     "name": "stdout",
     "output_type": "stream",
     "text": [
      "<Response [200]>\n"
     ]
    }
   ],
   "source": [
    "# Login\n",
    "from omapy.api import oma\n",
    "\n",
    "# API endpoint\n",
    "url = \"http://localhost:8080/\"\n",
    "# Login with username, password and flag that indicates if certificates are validated or not. False: useful for non-production\n",
    "login = oma.login(url, \"oma\", \"=PSe?sZ-ymp6mE>2\", False)\n",
    "# response code 200\n",
    "print(login)"
   ]
  },
  {
   "cell_type": "code",
   "execution_count": 2,
   "metadata": {},
   "outputs": [],
   "source": [
    "directory = \".omacache\"\n",
    "\n",
    "recording_id = 25161\n",
    "\n",
    "filename = directory + \"/\" + str(recording_id) + \".wav\"\n",
    "\n",
    "file = open(filename,\"w\")\n"
   ]
  },
  {
   "cell_type": "code",
   "execution_count": 3,
   "metadata": {},
   "outputs": [
    {
     "name": "stdout",
     "output_type": "stream",
     "text": [
      "{'digitalAudio': [{'id': 25162}], 'title': 'Recording of 1975', 'beats': None, 'id': 25161, 'interpretation': {'id': 5909}, 'tenantId': 3, 'abstractMusicPart': {'id': 5910}, 'annotationSessions': [{'id': 92520}, {'id': 92146}, {'id': 93272}, {'id': 92898}], 'recordingData': {}}\n"
     ]
    }
   ],
   "source": [
    "params = {\"recording\": recording_id}\n",
    "\n",
    "recording = oma.recording_get(params)\n",
    "\n",
    "print(recording)"
   ]
  },
  {
   "cell_type": "code",
   "execution_count": 4,
   "metadata": {},
   "outputs": [
    {
     "name": "stdout",
     "output_type": "stream",
     "text": [
      "opened\n",
      "omacache/recording/25161.mp3\n"
     ]
    }
   ],
   "source": [
    "params = {\"recording\": 25161}\n",
    "\n",
    "audio_file = oma.recording_get_audio(params)\n",
    "\n",
    "print(audio_file.name)\n",
    "\n",
    "\n"
   ]
  },
  {
   "cell_type": "code",
   "execution_count": 5,
   "metadata": {},
   "outputs": [
    {
     "name": "stderr",
     "output_type": "stream",
     "text": [
      "/home/martin/Workspace/oma/jupyter/JUPYTER/lib/python3.5/site-packages/librosa/core/audio.py:161: UserWarning: PySoundFile failed. Trying audioread instead.\n",
      "  warnings.warn('PySoundFile failed. Trying audioread instead.')\n"
     ]
    }
   ],
   "source": [
    "import librosa\n",
    "\n",
    "y, sr = librosa.load(audio_file.name, sr=44100, mono=False)"
   ]
  },
  {
   "cell_type": "code",
   "execution_count": 7,
   "metadata": {},
   "outputs": [
    {
     "data": {
      "text/plain": [
       "Text(0.5, 1.0, 'Stereo Wave')"
      ]
     },
     "execution_count": 7,
     "metadata": {},
     "output_type": "execute_result"
    },
    {
     "data": {
      "image/png": "[encoded data removed]",
      "text/plain": [
       "<Figure size 432x288 with 1 Axes>"
      ]
     },
     "metadata": {
      "needs_background": "light"
     },
     "output_type": "display_data"
    }
   ],
   "source": [
    "import matplotlib.pyplot as plt\n",
    "import librosa.display\n",
    "\n",
    "plt.figure()\n",
    "plt.subplot(1, 1, 1)\n",
    "librosa.display.waveplot(y, sr=sr)\n",
    "plt.title('Stereo Wave')\n"
   ]
  }
 ],
 "metadata": {
  "kernelspec": {
   "display_name": "Python 3",
   "language": "python",
   "name": "python3"
  },
  "language_info": {
   "codemirror_mode": {
    "name": "ipython",
    "version": 3
   },
   "file_extension": ".py",
   "mimetype": "text/x-python",
   "name": "python",
   "nbconvert_exporter": "python",
   "pygments_lexer": "ipython3",
   "version": "3.5.2"
  }
 },
 "nbformat": 4,
 "nbformat_minor": 4
}
