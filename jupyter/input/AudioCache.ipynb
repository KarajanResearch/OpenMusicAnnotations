{
 "cells": [
  {
   "cell_type": "markdown",
   "metadata": {},
   "source": [
    "# Using local storage as audio cache"
   ]
  },
  {
   "cell_type": "code",
   "execution_count": 1,
   "metadata": {},
   "outputs": [
    {
     "name": "stdout",
     "output_type": "stream",
     "text": [
      "<Response [200]>\n"
     ]
    }
   ],
   "source": [
    "# Login\n",
    "from omapy.api import oma\n",
    "\n",
    "# API endpoint\n",
    "url = \"http://localhost:8080/\"\n",
    "# Login with username, password and flag that indicates if certificates are validated or not. False: useful for non-production\n",
    "login = oma.login(url, \"oma\", \"=PSe?sZ-ymp6mE>2\", False)\n",
    "# response code 200\n",
    "print(login)"
   ]
  },
  {
   "cell_type": "code",
   "execution_count": 2,
   "metadata": {},
   "outputs": [],
   "source": [
    "directory = \".omacache\"\n",
    "\n",
    "recording_id = 25161\n",
    "\n",
    "filename = directory + \"/\" + str(recording_id) + \".wav\"\n",
    "\n",
    "file = open(filename,\"w\")\n"
   ]
  },
  {
   "cell_type": "code",
   "execution_count": 3,
   "metadata": {},
   "outputs": [
    {
     "name": "stdout",
     "output_type": "stream",
     "text": [
      "{'id': 25161, 'interpretation': {'id': 5909}, 'annotationSessions': [{'id': 92146}, {'id': 92520}, {'id': 92898}, {'id': 93272}], 'beats': None, 'title': 'Recording of 1975', 'recordingData': {}, 'digitalAudio': [{'id': 25162}], 'tenantId': 3, 'abstractMusicPart': {'id': 5910}}\n"
     ]
    }
   ],
   "source": [
    "params = {\"recording\": recording_id}\n",
    "\n",
    "recording = oma.recording_get(params)\n",
    "\n",
    "print(recording)"
   ]
  },
  {
   "cell_type": "code",
   "execution_count": 6,
   "metadata": {},
   "outputs": [
    {
     "name": "stdout",
     "output_type": "stream",
     "text": [
      "not found\n",
      "<Response [200]>\n",
      "creating\n"
     ]
    }
   ],
   "source": [
    "params = {\"recording\": 25161}\n",
    "\n",
    "audio_file = oma.recording_get_audio(params)\n",
    "\n"
   ]
  }
 ],
 "metadata": {
  "kernelspec": {
   "display_name": "Python 3",
   "language": "python",
   "name": "python3"
  },
  "language_info": {
   "codemirror_mode": {
    "name": "ipython",
    "version": 3
   },
   "file_extension": ".py",
   "mimetype": "text/x-python",
   "name": "python",
   "nbconvert_exporter": "python",
   "pygments_lexer": "ipython3",
   "version": "3.5.2"
  }
 },
 "nbformat": 4,
 "nbformat_minor": 4
}
