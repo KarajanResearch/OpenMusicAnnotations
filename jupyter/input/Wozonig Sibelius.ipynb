{
 "cells": [
  {
   "cell_type": "markdown",
   "metadata": {},
   "source": [
    "# Terraces in the first Movement of Sibelius Symphony No. 6\n",
    "\n",
    "Here goes some nice abstract of the project.\n",
    "\n",
    "## Introduction\n",
    "\n",
    "Here goes some nice intro\n"
   ]
  },
  {
   "cell_type": "code",
   "execution_count": 2,
   "metadata": {},
   "outputs": [],
   "source": []
  },
  {
   "cell_type": "markdown",
   "metadata": {},
   "source": [
    "## Evaluation\n",
    "\n",
    "* loading data from oma.digital\n",
    "* login via tokens \n",
    "\n"
   ]
  },
  {
   "cell_type": "code",
   "execution_count": 74,
   "metadata": {},
   "outputs": [
    {
     "name": "stdout",
     "output_type": "stream",
     "text": [
      "Welcome to oma\n",
      "{'id': 187593, 'name': 'Jean Sibelius'}\n"
     ]
    }
   ],
   "source": [
    "from __future__ import print_function\n",
    "\n",
    "__author__ = \"Martin Aigner\"\n",
    "\n",
    "import requests\n",
    "import json\n",
    "\n",
    "class Login:\n",
    "    def __init__(self, endpoint, access_token, verify_certificate):\n",
    "        self.endpoint = endpoint\n",
    "        self.access_token = access_token\n",
    "        self.verify_certificate = verify_certificate\n",
    "        self.headers = {\n",
    "            'User-Agent': 'oma.py',\n",
    "            'Authorization': \"Bearer \" + access_token\n",
    "        }\n",
    "        self.config = {\n",
    "            \"api_path\": \"api/\",\n",
    "            \"cache_dir\": \"omacache\"\n",
    "        }\n",
    "        \n",
    "\n",
    "        \n",
    "class Recording:\n",
    "    __data_cache = None\n",
    "    def __init__(self, id, oma_login):\n",
    "        self.id = id\n",
    "        self.oma_login = oma_login\n",
    "        \n",
    "    def __get(self):\n",
    "        params = {\n",
    "            \"method\": \"get\",\n",
    "            \"recording\": self.id\n",
    "        }\n",
    "        url = self.oma_login.endpoint + self.oma_login.config[\"api_path\"] + \"recording\"\n",
    "        response = requests.post(url, headers=self.oma_login.headers, data=params, verify=self.oma_login.verify_certificate)\n",
    "        # print(response.content.decode())\n",
    "        content = json.loads(response.content.decode())\n",
    "        return content\n",
    "    \n",
    "    def show(self):\n",
    "        if self.__data_cache is None:\n",
    "            self.__data_cache = self.__get()        \n",
    "        return self.__data_cache\n",
    "        \n",
    "        \n",
    "class Composer:\n",
    "    __data_cache = None\n",
    "    def __init__(self, id, oma_login):\n",
    "        self.id = id\n",
    "        self.oma_login = oma_login\n",
    "\n",
    "        \n",
    "    def __get(self):\n",
    "        params = {\n",
    "            \"method\": \"get\",\n",
    "            \"composer\": self.id\n",
    "        }\n",
    "        url = self.oma_login.endpoint + self.oma_login.config[\"api_path\"] + \"composer\"\n",
    "        response = requests.post(url, headers=self.oma_login.headers, data=params, verify=self.oma_login.verify_certificate)\n",
    "        content = json.loads(response.content.decode())\n",
    "        return content\n",
    "        \n",
    "        \n",
    "    def show(self):\n",
    "        if self.__data_cache is None:\n",
    "            self.__data_cache = self.__get()\n",
    "        return self.__data_cache\n",
    "\n",
    "\n",
    "# login to the Open Music Annotations cloud\n",
    "\n",
    "# url = \"https://oma.digital/\"\n",
    "url = \"http://localhost:8080/\"\n",
    "# oma_login = oma.login(url, \"uvmg82kmatt4hruacmi39d47hhvnpkp5\", True)\n",
    "\n",
    "oma_login = Login(url, \"3iispvmrt8s69cp97a80tnk3kqdpean8\", True)\n",
    "\n",
    "# recording = oma.recording(189070)\n",
    "# recording = Recording(187642, oma_login)\n",
    "# print(recording.show())\n",
    "\n",
    "# find everything by a composer\n",
    "composer = Composer(187593, oma_login)\n",
    "print(composer.show())\n",
    "\n",
    "\n"
   ]
  },
  {
   "cell_type": "code",
   "execution_count": null,
   "metadata": {},
   "outputs": [],
   "source": []
  },
  {
   "cell_type": "code",
   "execution_count": null,
   "metadata": {},
   "outputs": [],
   "source": [
    "# my composer"
   ]
  },
  {
   "cell_type": "code",
   "execution_count": null,
   "metadata": {},
   "outputs": [],
   "source": []
  },
  {
   "cell_type": "code",
   "execution_count": null,
   "metadata": {},
   "outputs": [],
   "source": []
  },
  {
   "cell_type": "code",
   "execution_count": null,
   "metadata": {},
   "outputs": [],
   "source": []
  }
 ],
 "metadata": {
  "kernelspec": {
   "display_name": "Python 3",
   "language": "python",
   "name": "python3"
  },
  "language_info": {
   "codemirror_mode": {
    "name": "ipython",
    "version": 3
   },
   "file_extension": ".py",
   "mimetype": "text/x-python",
   "name": "python",
   "nbconvert_exporter": "python",
   "pygments_lexer": "ipython3",
   "version": "3.5.2"
  }
 },
 "nbformat": 4,
 "nbformat_minor": 4
}
