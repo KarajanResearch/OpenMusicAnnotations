{
 "cells": [
  {
   "cell_type": "markdown",
   "metadata": {},
   "source": [
    "# Importing Masterliste Werke+Aufnahmen\n",
    "\n",
    "The sheet \"machine readable\" contains the fixed data including manually added folder and file names for csv data files (tappings)\n",
    "\n",
    "## Preparation\n",
    "Download sheet \"machine readable\" as csv.\n"
   ]
  },
  {
   "cell_type": "code",
   "execution_count": null,
   "metadata": {},
   "outputs": [],
   "source": []
  },
  {
   "cell_type": "code",
   "execution_count": null,
   "metadata": {},
   "outputs": [],
   "source": []
  },
  {
   "cell_type": "markdown",
   "metadata": {},
   "source": [
    "# Adding data from notebooks"
   ]
  },
  {
   "cell_type": "markdown",
   "metadata": {},
   "source": [
    "## Audio conversion"
   ]
  },
  {
   "cell_type": "code",
   "execution_count": 3,
   "metadata": {},
   "outputs": [
    {
     "data": {
      "text/plain": [
       "<_io.BufferedRandom name='/home/martin/Workspace/musicData/data/recordings/BRUCKNER_Sym9-3_-_ABBADO_WPh_1996_LIVE_DG_[471 032-2]/03_BRUCKNER_Sym9-3_-_ABBADO_WPh_1996_LIVE_DG_[471 032-2].flac.wav'>"
      ]
     },
     "execution_count": 3,
     "metadata": {},
     "output_type": "execute_result"
    }
   ],
   "source": [
    "from pydub import AudioSegment\n",
    "\n",
    "data_dir = \"/home/martin/Workspace/musicData/data/recordings/BRUCKNER_Sym9-3_-_ABBADO_WPh_1996_LIVE_DG_[471 032-2]\"\n",
    "file_name = data_dir + \"/\" + \"03_BRUCKNER_Sym9-3_-_ABBADO_WPh_1996_LIVE_DG_[471 032-2].flac\"\n",
    "\n",
    "song = AudioSegment.from_file(file_name, \"flac\")\n",
    "song.export(file_name + \".wav\", format=\"wav\")\n",
    "\n"
   ]
  },
  {
   "cell_type": "markdown",
   "metadata": {},
   "source": [
    "## OMA API"
   ]
  },
  {
   "cell_type": "code",
   "execution_count": 36,
   "metadata": {},
   "outputs": [
    {
     "data": {
      "text/plain": [
       "<Response [200]>"
      ]
     },
     "execution_count": 36,
     "metadata": {},
     "output_type": "execute_result"
    }
   ],
   "source": [
    "import requests\n",
    "import json\n",
    "\n",
    "# url = \"http://omatest.eu-central-1.elasticbeanstalk.com:8080/\"\n",
    "url = \"http://localhost:8080/\"\n",
    "\n",
    "_headers = {\n",
    "    'User-Agent': 'Bootstrap.py',\n",
    "    'Authorization': \"\"\n",
    "}\n",
    "_endpoint = {\n",
    "    \"uri\": \"\"\n",
    "}\n",
    "\n",
    "_config = {\n",
    "    \"API_PATH\": \"api/\"\n",
    "}\n",
    "\n",
    "def login(endpoint, username, password):\n",
    "    \"\"\"\n",
    "    Authenticates to marketme.marketme.universalimporter and sets the Authorization\n",
    "    header field.\n",
    "    :param username: a valid username for marketme.marketme.universalimporter\n",
    "    :param password: the password\n",
    "    :return: http response\n",
    "    \"\"\"\n",
    "    _endpoint[\"uri\"] = endpoint\n",
    "    data = {\n",
    "        'username': username,\n",
    "        \"password\": password\n",
    "    }\n",
    "    url = _endpoint[\"uri\"] + _config[\"API_PATH\"] + \"login\"\n",
    "    response = requests.post(url, json=data, verify=False)\n",
    "    content = json.loads(response.content.decode())\n",
    "    _headers['Authorization'] = content['token_type'] + \" \" + content['access_token']\n",
    "    return response\n",
    "\n",
    "def composer_add(params):\n",
    "    params[\"method\"] = \"add\"\n",
    "    url = _endpoint[\"uri\"] + _config[\"API_PATH\"] + \"composer\"\n",
    "    response = requests.post(url, headers=_headers, data = params, verify=False)\n",
    "    content = json.loads(response.content.decode())\n",
    "    return content\n",
    "\n",
    "def composition_add(params):\n",
    "    params[\"method\"] = \"add\"\n",
    "    url = _endpoint[\"uri\"] + _config[\"API_PATH\"] + \"composition\"\n",
    "    response = requests.post(url, headers=_headers, data = params, verify=False)\n",
    "    content = json.loads(response.content.decode())\n",
    "    return content\n",
    "    \n",
    "def interpretation_add(params):\n",
    "    params[\"method\"] = \"add\"\n",
    "    url = _endpoint[\"uri\"] + _config[\"API_PATH\"] + \"interpretation\"\n",
    "    response = requests.post(url, headers=_headers, data = params, verify=False)\n",
    "    content = json.loads(response.content.decode())\n",
    "    return content\n",
    "\n",
    "def interpretation_add_abstract_music_part(params):\n",
    "    params[\"method\"] = \"addAbstractMusicPart\"\n",
    "    url = _endpoint[\"uri\"] + _config[\"API_PATH\"] + \"interpretation\"\n",
    "    response = requests.post(url, headers=_headers, data = params, verify=False)\n",
    "    content = json.loads(response.content.decode())\n",
    "    return content\n",
    "\n",
    "def recording_add(params, files):\n",
    "    params[\"method\"] = \"add\"\n",
    "    url = _endpoint[\"uri\"] + _config[\"API_PATH\"] + \"recording\"\n",
    "    # response = requests.post(url, headers=_headers, data = params, files = files, verify=False)\n",
    "    # upload without a file first. if recording exists, no upload necessary\n",
    "    response = requests.post(url, headers=_headers, data = params, verify=False)\n",
    "    content = json.loads(response.content.decode())\n",
    "    \n",
    "    if content[\"error\"]:\n",
    "        if (content[\"error\"] == \"please provide a file\"):\n",
    "            print(\"providing a file\")\n",
    "            response = requests.post(url, headers=_headers, data = params, files = files, verify=False)\n",
    "            # response = requests.post(url, headers=_headers, data = params, verify=False)\n",
    "            content = json.loads(response.content.decode())\n",
    "        \n",
    "    \n",
    "    return content\n",
    "\n",
    "\n",
    "login(url, \"oma\", \"=PSe?sZ-ymp6mE>2\")\n",
    "\n"
   ]
  },
  {
   "cell_type": "markdown",
   "metadata": {},
   "source": [
    "## Using the OMA API to upload the data"
   ]
  },
  {
   "cell_type": "code",
   "execution_count": 38,
   "metadata": {},
   "outputs": [
    {
     "name": "stdout",
     "output_type": "stream",
     "text": [
      "{'tenantId': 3, 'name': 'Anton Bruckner', 'id': 5, 'compositions': [{'id': 6}]}\n",
      "{'tenantId': 3, 'title': 'Symphonie No. 9', 'composer': {'id': 5}, 'id': 6}\n",
      "{'recordings': [{'id': 9}], 'title': 'Eugen Jochum, Berliner Philharmoniker, 1966', 'tenantId': 3, 'id': 7, 'abstractMusicParts': [{'id': 8}]}\n",
      "{'id': 8, 'tenantId': 3, 'interpretation': {'id': 7}, 'abstractMusic': {'id': 6}, 'barNumberOffset': 150.0, 'title': 'Movement 3', 'pdfLocation': None, 'interpretationOrder': 3, 'numberOfBars': 93.0}\n"
     ]
    },
    {
     "ename": "NameError",
     "evalue": "name 'mp3_file_handle' is not defined",
     "output_type": "error",
     "traceback": [
      "\u001b[0;31m---------------------------------------------------------------------------\u001b[0m",
      "\u001b[0;31mNameError\u001b[0m                                 Traceback (most recent call last)",
      "\u001b[0;32m<ipython-input-38-e9159e2dc6e9>\u001b[0m in \u001b[0;36m<module>\u001b[0;34m\u001b[0m\n\u001b[1;32m     93\u001b[0m \u001b[0;34m\u001b[0m\u001b[0m\n\u001b[1;32m     94\u001b[0m \u001b[0;34m\u001b[0m\u001b[0m\n\u001b[0;32m---> 95\u001b[0;31m     \u001b[0mmp3_file_handle\u001b[0m\u001b[0;34m\u001b[0m\u001b[0m\n\u001b[0m\u001b[1;32m     96\u001b[0m     \u001b[0;32mif\u001b[0m \u001b[0mos\u001b[0m\u001b[0;34m.\u001b[0m\u001b[0mpath\u001b[0m\u001b[0;34m.\u001b[0m\u001b[0misfile\u001b[0m\u001b[0;34m(\u001b[0m\u001b[0mmp3_file\u001b[0m\u001b[0;34m)\u001b[0m \u001b[0;34m==\u001b[0m \u001b[0;32mFalse\u001b[0m\u001b[0;34m:\u001b[0m\u001b[0;34m\u001b[0m\u001b[0m\n\u001b[1;32m     97\u001b[0m         \u001b[0mprint\u001b[0m\u001b[0;34m(\u001b[0m\u001b[0;34m\"converting\"\u001b[0m\u001b[0;34m)\u001b[0m\u001b[0;34m\u001b[0m\u001b[0m\n",
      "\u001b[0;31mNameError\u001b[0m: name 'mp3_file_handle' is not defined"
     ]
    }
   ],
   "source": [
    "import pandas as pd\n",
    "import math\n",
    "import os\n",
    "from pydub import AudioSegment\n",
    "\n",
    "data_list = \"data/Masterliste Werke+Aufnahmen - machine readable.csv\"\n",
    "data_dir = \"/home/martin/Workspace/musicData/data/\"\n",
    "df = pd.read_csv(data_list)\n",
    "\n",
    "df.head()\n",
    "\n",
    "\n",
    "def parse_t_csv(filename):\n",
    "    tapping_f = open(filename, \"r\")\n",
    "    # print(tapping_f.read())\n",
    "    return {}\n",
    "\n",
    "    \n",
    "\n",
    "filtered_data = df[df['tapping_files'].notnull()]\n",
    "    \n",
    "for index, row in filtered_data.iterrows():\n",
    "    \n",
    "    tapping_file_list = row['tapping_files'].split(\",\")\n",
    "    \n",
    "    # parse row\n",
    "    composer = row[\"Komponist\"]\n",
    "    work = row[\"Werkname\"]\n",
    "    part_number = row[\"Satz_Nr\"]\n",
    "    conductor = row[\"Dirigent\"]\n",
    "    orchestra = row[\"Orchester\"]\n",
    "    year = row[\"Aufnahmejahr\"]\n",
    "    \n",
    "    # print(composer, work, part_number, conductor, orchestra, year)\n",
    "    \n",
    "    c = {\"name\": composer}\n",
    "    c = composer_add(c)\n",
    "    print(c)\n",
    "\n",
    "    composition = {\"title\": work, \"composer\": c[\"id\"]}\n",
    "    composition = composition_add(composition)\n",
    "    print(composition)\n",
    "    \n",
    "    # interpretation\n",
    "    interpretation = {\"title\":  conductor + \", \" + orchestra + \", \" + str(year)}\n",
    "    interpretation = interpretation_add(interpretation)\n",
    "    print(interpretation)\n",
    "    \n",
    "    \n",
    "    # abstract music (work) part of composition\n",
    "    \n",
    "    if math.isnan(row[\"Takt von\"]):\n",
    "        row[\"Takt von\"] = 0.0\n",
    "    \n",
    "    if math.isnan(row[\"Takt bis\"]):\n",
    "        row[\"Takt bis\"] = 0.0\n",
    "    \n",
    "    # offset and lengths in OMA instead of start and end. It's equivalent   \n",
    "    row[\"Takt bis\"] = row[\"Takt bis\"] - row[\"Takt von\"] \n",
    "\n",
    "    \n",
    "    abstract_music_part = {\n",
    "        \"title\": \"Movement \" + str(part_number),\n",
    "        \"movement\": part_number,\n",
    "        \"composition\": composition[\"id\"],\n",
    "        \"interpretation\": interpretation[\"id\"],\n",
    "        \"bar_number_offset\": row[\"Takt von\"],\n",
    "        \"number_of_bars\": row[\"Takt bis\"]\n",
    "    }\n",
    "    abstract_music_part = interpretation_add_abstract_music_part(abstract_music_part)\n",
    "    print(abstract_music_part)\n",
    "    \n",
    "    \n",
    "    # recording and audio files\n",
    "    audio_path = data_dir + \"recordings/\" +row[\"recording_folder\"]\n",
    "    audio_file_list = os.listdir(audio_path)\n",
    "    legit_audio_files = []\n",
    "    for a in audio_file_list:\n",
    "        if a.endswith(\".flac\"): # or .wav or whatever\n",
    "            legit_audio_files.append(a)\n",
    "    \n",
    "    if (len(legit_audio_files) != 1):\n",
    "        print (\"only single audio file supported\")\n",
    "        sys.exit(1)\n",
    "    \n",
    "    file_name = legit_audio_files[0]\n",
    "    audio_file = audio_path + file_name\n",
    "    wav_file = audio_file + \".wav\"\n",
    "    mp3_file = audio_file + \".64k.mp3\"\n",
    "    \n",
    "    song = AudioSegment.from_file(audio_file, \"flac\")\n",
    "    # song.export(wav_file, format=\"wav\")\n",
    "    \n",
    "    \n",
    "    if os.path.isfile(mp3_file) == False:\n",
    "        print(\"converting\")\n",
    "        song.export(mp3_file, format=\"mp3\", bitrate=\"64k\")\n",
    "        \n",
    "    \n",
    "    recording = {\n",
    "        \"title\": \"Recording of \" + str(row[\"Aufnahmejahr\"]),\n",
    "        \"interpretation\": interpretation[\"id\"],\n",
    "        \"abstract_music_part\": abstract_music_part[\"id\"]       \n",
    "    }\n",
    "    files = {\n",
    "        # \"file\": (wav_file, open(wav_file, 'rb'), 'audio/wav', {'Expires': '0'})\n",
    "        \"file\": (mp3_file, open(mp3_file, 'rb'), 'audio/mpeg', {'Expires': '0'})\n",
    "    \n",
    "    }\n",
    "    \n",
    "    recording = recording_add(recording, files)\n",
    "    print(recording)\n",
    "    \n",
    "    \n",
    "    print (\"\")\n",
    "    \n",
    "    # tappings. multiple files possible\n",
    "    for i in range(0, len(tapping_file_list)):\n",
    "        # print(\"\\t\", tapping_file_list[i])\n",
    "        # import that tapping file to recording\n",
    "        cwd = data_dir + row[\"tapping_folder\"]\n",
    "        tapping_data = parse_t_csv(cwd + \"/\" + tapping_file_list[i].rstrip())\n",
    "        # upload tapping data\n",
    "        \n",
    "        \n",
    "\n"
   ]
  },
  {
   "cell_type": "code",
   "execution_count": null,
   "metadata": {},
   "outputs": [],
   "source": []
  },
  {
   "cell_type": "code",
   "execution_count": null,
   "metadata": {},
   "outputs": [],
   "source": []
  },
  {
   "cell_type": "code",
   "execution_count": null,
   "metadata": {},
   "outputs": [],
   "source": []
  },
  {
   "cell_type": "code",
   "execution_count": null,
   "metadata": {},
   "outputs": [],
   "source": []
  }
 ],
 "metadata": {
  "kernelspec": {
   "display_name": "Python 3",
   "language": "python",
   "name": "python3"
  },
  "language_info": {
   "codemirror_mode": {
    "name": "ipython",
    "version": 3
   },
   "file_extension": ".py",
   "mimetype": "text/x-python",
   "name": "python",
   "nbconvert_exporter": "python",
   "pygments_lexer": "ipython3",
   "version": "3.5.2"
  }
 },
 "nbformat": 4,
 "nbformat_minor": 4
}
