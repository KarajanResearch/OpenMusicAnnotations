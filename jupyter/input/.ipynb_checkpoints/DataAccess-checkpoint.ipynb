{
 "cells": [
  {
   "cell_type": "markdown",
   "metadata": {},
   "source": [
    "# OMA Data Access\n",
    "\n",
    "Example: fetching list of composers\n",
    "\n",
    "composers = oma.composer_list(params)\n",
    "\n"
   ]
  },
  {
   "cell_type": "markdown",
   "metadata": {},
   "source": [
    "\n",
    "\n",
    "## Parameters for list methods\n",
    "\n",
    "    max - The maximum number to list\n",
    "    offset - The offset from the first result to list from\n",
    "    order - How to order the list, either \"desc\" or \"asc\"\n",
    "    sort - The property name to sort by\n",
    "    ignoreCase - Whether to ignore the case when sorting. Default is true.\n",
    "    fetch - The fetch policy for the object's associations as a Map\n",
    "    readOnly - true if returned objects should not be automatically dirty-checked (simlar to read())\n",
    "    fetchSize - number of rows fetched by the underlying JDBC driver per round trip\n",
    "    flushMode - Hibernate FlushMode override, defaults to FlushMode.AUTO\n",
    "    timeout - query timeout in seconds\n"
   ]
  },
  {
   "cell_type": "code",
   "execution_count": 1,
   "metadata": {},
   "outputs": [
    {
     "name": "stdout",
     "output_type": "stream",
     "text": [
      "<Response [200]>\n"
     ]
    }
   ],
   "source": [
    "from omapy.api import oma\n",
    "import pandas as pd\n",
    "\n",
    "# API endpoint\n",
    "url = \"http://localhost:8080/\"\n",
    "# Login with username, password and flag that indicates if certificates are validated or not. False: useful for non-production\n",
    "login = oma.login(url, \"oma\", \"=PSe?sZ-ymp6mE>2\", False)\n",
    "# response code 200\n",
    "print(login)\n",
    "\n"
   ]
  },
  {
   "cell_type": "code",
   "execution_count": 2,
   "metadata": {},
   "outputs": [
    {
     "data": {
      "text/html": [
       "<div>\n",
       "<style scoped>\n",
       "    .dataframe tbody tr th:only-of-type {\n",
       "        vertical-align: middle;\n",
       "    }\n",
       "\n",
       "    .dataframe tbody tr th {\n",
       "        vertical-align: top;\n",
       "    }\n",
       "\n",
       "    .dataframe thead th {\n",
       "        text-align: right;\n",
       "    }\n",
       "</style>\n",
       "<table border=\"1\" class=\"dataframe\">\n",
       "  <thead>\n",
       "    <tr style=\"text-align: right;\">\n",
       "      <th></th>\n",
       "      <th>compositions</th>\n",
       "      <th>id</th>\n",
       "      <th>name</th>\n",
       "      <th>tenantId</th>\n",
       "    </tr>\n",
       "  </thead>\n",
       "  <tbody>\n",
       "    <tr>\n",
       "      <th>0</th>\n",
       "      <td>[{'id': 5144}]</td>\n",
       "      <td>5143</td>\n",
       "      <td>Anton Bruckner</td>\n",
       "      <td>3</td>\n",
       "    </tr>\n",
       "    <tr>\n",
       "      <th>1</th>\n",
       "      <td>[{'id': 52791}]</td>\n",
       "      <td>52790</td>\n",
       "      <td>Anton Webern</td>\n",
       "      <td>3</td>\n",
       "    </tr>\n",
       "    <tr>\n",
       "      <th>2</th>\n",
       "      <td>[{'id': 29330}]</td>\n",
       "      <td>29329</td>\n",
       "      <td>Ludwig van Beethoven</td>\n",
       "      <td>3</td>\n",
       "    </tr>\n",
       "    <tr>\n",
       "      <th>3</th>\n",
       "      <td>[{'id': 6}]</td>\n",
       "      <td>5</td>\n",
       "      <td>Richard Strauss</td>\n",
       "      <td>3</td>\n",
       "    </tr>\n",
       "  </tbody>\n",
       "</table>\n",
       "</div>"
      ],
      "text/plain": [
       "      compositions     id                  name  tenantId\n",
       "0   [{'id': 5144}]   5143        Anton Bruckner         3\n",
       "1  [{'id': 52791}]  52790          Anton Webern         3\n",
       "2  [{'id': 29330}]  29329  Ludwig van Beethoven         3\n",
       "3      [{'id': 6}]      5       Richard Strauss         3"
      ]
     },
     "execution_count": 2,
     "metadata": {},
     "output_type": "execute_result"
    }
   ],
   "source": [
    "# list composers\n",
    "params = {\"sort\": \"name\"}\n",
    "composers = oma.composer_list(params)\n",
    "df_composers = pd.DataFrame(data=composers)\n",
    "\n",
    "df_composers.head()"
   ]
  },
  {
   "cell_type": "code",
   "execution_count": 3,
   "metadata": {},
   "outputs": [
    {
     "name": "stdout",
     "output_type": "stream",
     "text": [
      "     compositions    id            name  tenantId\n",
      "0  [{'id': 5144}]  5143  Anton Bruckner         3\n"
     ]
    }
   ],
   "source": [
    "# filter data frame locally\n",
    "bruckner = df_composers[df_composers.name.eq(\"Anton Bruckner\")]\n",
    "print(bruckner)"
   ]
  },
  {
   "cell_type": "code",
   "execution_count": 4,
   "metadata": {},
   "outputs": [
    {
     "data": {
      "text/html": [
       "<div>\n",
       "<style scoped>\n",
       "    .dataframe tbody tr th:only-of-type {\n",
       "        vertical-align: middle;\n",
       "    }\n",
       "\n",
       "    .dataframe tbody tr th {\n",
       "        vertical-align: top;\n",
       "    }\n",
       "\n",
       "    .dataframe thead th {\n",
       "        text-align: right;\n",
       "    }\n",
       "</style>\n",
       "<table border=\"1\" class=\"dataframe\">\n",
       "  <thead>\n",
       "    <tr style=\"text-align: right;\">\n",
       "      <th></th>\n",
       "      <th>composer</th>\n",
       "      <th>id</th>\n",
       "      <th>tenantId</th>\n",
       "      <th>title</th>\n",
       "    </tr>\n",
       "  </thead>\n",
       "  <tbody>\n",
       "    <tr>\n",
       "      <th>0</th>\n",
       "      <td>{'id': 5}</td>\n",
       "      <td>6</td>\n",
       "      <td>3</td>\n",
       "      <td>Don Juan Op. 20</td>\n",
       "    </tr>\n",
       "    <tr>\n",
       "      <th>1</th>\n",
       "      <td>{'id': 5143}</td>\n",
       "      <td>5144</td>\n",
       "      <td>3</td>\n",
       "      <td>Symphonie No. 9</td>\n",
       "    </tr>\n",
       "    <tr>\n",
       "      <th>2</th>\n",
       "      <td>{'id': 29329}</td>\n",
       "      <td>29330</td>\n",
       "      <td>3</td>\n",
       "      <td>Symphonie No. 9</td>\n",
       "    </tr>\n",
       "    <tr>\n",
       "      <th>3</th>\n",
       "      <td>{'id': 52790}</td>\n",
       "      <td>52791</td>\n",
       "      <td>3</td>\n",
       "      <td>Symphonie Op. 21</td>\n",
       "    </tr>\n",
       "  </tbody>\n",
       "</table>\n",
       "</div>"
      ],
      "text/plain": [
       "        composer     id  tenantId             title\n",
       "0      {'id': 5}      6         3   Don Juan Op. 20\n",
       "1   {'id': 5143}   5144         3   Symphonie No. 9\n",
       "2  {'id': 29329}  29330         3   Symphonie No. 9\n",
       "3  {'id': 52790}  52791         3  Symphonie Op. 21"
      ]
     },
     "execution_count": 4,
     "metadata": {},
     "output_type": "execute_result"
    }
   ],
   "source": [
    "# list compositions\n",
    "params = {}\n",
    "compositions = oma.composition_list(params)\n",
    "df_compositions = pd.DataFrame(data=compositions)\n",
    "df_compositions.head()\n"
   ]
  },
  {
   "cell_type": "code",
   "execution_count": null,
   "metadata": {},
   "outputs": [],
   "source": []
  }
 ],
 "metadata": {
  "kernelspec": {
   "display_name": "Python 3",
   "language": "python",
   "name": "python3"
  },
  "language_info": {
   "codemirror_mode": {
    "name": "ipython",
    "version": 3
   },
   "file_extension": ".py",
   "mimetype": "text/x-python",
   "name": "python",
   "nbconvert_exporter": "python",
   "pygments_lexer": "ipython3",
   "version": "3.5.2"
  }
 },
 "nbformat": 4,
 "nbformat_minor": 4
}
