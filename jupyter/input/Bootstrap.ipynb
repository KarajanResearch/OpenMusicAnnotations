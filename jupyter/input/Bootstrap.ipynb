{
 "cells": [
  {
   "cell_type": "markdown",
   "metadata": {},
   "source": [
    "# Importing Masterliste Werke+Aufnahmen\n",
    "\n",
    "The sheet \"machine readable\" contains the fixed data including manually added folder and file names for csv data files (tappings)\n",
    "\n",
    "## Preparation\n",
    "Download sheet \"machine readable\" as csv.\n"
   ]
  },
  {
   "cell_type": "code",
   "execution_count": 15,
   "metadata": {},
   "outputs": [],
   "source": [
    "%matplotlib inline"
   ]
  },
  {
   "cell_type": "code",
   "execution_count": null,
   "metadata": {},
   "outputs": [],
   "source": []
  },
  {
   "cell_type": "markdown",
   "metadata": {},
   "source": [
    "# Adding data from notebooks"
   ]
  },
  {
   "cell_type": "markdown",
   "metadata": {},
   "source": [
    "## Audio conversion"
   ]
  },
  {
   "cell_type": "code",
   "execution_count": 3,
   "metadata": {},
   "outputs": [
    {
     "data": {
      "text/plain": [
       "<_io.BufferedRandom name='/home/martin/Workspace/musicData/data/recordings/BRUCKNER_Sym9-3_-_ABBADO_WPh_1996_LIVE_DG_[471 032-2]/03_BRUCKNER_Sym9-3_-_ABBADO_WPh_1996_LIVE_DG_[471 032-2].flac.wav'>"
      ]
     },
     "execution_count": 3,
     "metadata": {},
     "output_type": "execute_result"
    }
   ],
   "source": [
    "from pydub import AudioSegment\n",
    "\n",
    "data_dir = \"/home/martin/Workspace/musicData/data/recordings/BRUCKNER_Sym9-3_-_ABBADO_WPh_1996_LIVE_DG_[471 032-2]\"\n",
    "file_name = data_dir + \"/\" + \"03_BRUCKNER_Sym9-3_-_ABBADO_WPh_1996_LIVE_DG_[471 032-2].flac\"\n",
    "\n",
    "song = AudioSegment.from_file(file_name, \"flac\")\n",
    "song.export(file_name + \".wav\", format=\"wav\")\n",
    "\n"
   ]
  },
  {
   "cell_type": "markdown",
   "metadata": {},
   "source": [
    "## OMA API"
   ]
  },
  {
   "cell_type": "code",
   "execution_count": 3,
   "metadata": {},
   "outputs": [
    {
     "name": "stdout",
     "output_type": "stream",
     "text": [
      "<Response [200]>\n"
     ]
    }
   ],
   "source": []
  },
  {
   "cell_type": "markdown",
   "metadata": {},
   "source": [
    "## Using the OMA API to upload the data"
   ]
  },
  {
   "cell_type": "code",
   "execution_count": 19,
   "metadata": {},
   "outputs": [
    {
     "name": "stdout",
     "output_type": "stream",
     "text": [
      "<Response [200]>\n",
      "{'tenantId': 3, 'compositions': [{'id': 6}], 'name': 'Anton Bruckner', 'id': 5}\n",
      "{'tenantId': 3, 'title': 'Symphonie No. 9', 'composer': {'tenantId': 3, 'compositions': [{'_ref': '../..', 'class': 'org.karajanresearch.oma.music.AbstractMusic'}], 'name': 'Anton Bruckner', 'id': 5}, 'id': 6}\n",
      "{'tenantId': 3, 'abstractMusicParts': [{'id': 8}], 'title': 'Eugen Jochum, Berliner Philharmoniker, 1966', 'recordings': [{'id': 9}], 'id': 7}\n",
      "{'tenantId': 3, 'interpretationOrder': 3, 'interpretation': {'tenantId': 3, 'abstractMusicParts': [{'_ref': '../..', 'class': 'org.karajanresearch.oma.music.AbstractMusicPart'}], 'title': 'Eugen Jochum, Berliner Philharmoniker, 1966', 'recordings': [{'tenantId': 3, 'abstractMusicPart': {'_ref': '../../..', 'class': 'org.karajanresearch.oma.music.AbstractMusicPart'}, 'recordingData': {}, 'digitalAudio': [{'tenantId': 3, 'location': 'https://s3.amazonaws.com/open-music-annotations-storage-backend/test/recording/9/2020-01-13-12-07-815_03_BRUCKNER_Sym9-3_-_Jochum_BPO_1964_DG__429_088-2_.flac.64k.mp3', 'recording': {'_ref': '../..', 'class': 'org.karajanresearch.oma.music.Recording'}, 'contentType': 'audio/mpeg', 'id': 10}], 'title': 'Recording of 1966', 'interpretation': {'_ref': '../..', 'class': 'org.karajanresearch.oma.music.Interpretation'}, 'id': 9}], 'id': 7}, 'numberOfBars': 93.0, 'abstractMusic': {'tenantId': 3, 'title': 'Symphonie No. 9', 'composer': {'tenantId': 3, 'compositions': [{'_ref': '../..', 'class': 'org.karajanresearch.oma.music.AbstractMusic'}], 'name': 'Anton Bruckner', 'id': 5}, 'id': 6}, 'title': 'Movement 3', 'barNumberOffset': 150.0, 'pdfLocation': None, 'id': 8}\n",
      "{'tenantId': 3, 'abstractMusicPart': {'id': 8}, 'recordingData': {}, 'digitalAudio': [{'id': 10}], 'title': 'Recording of 1966', 'interpretation': {'id': 7}, 'id': 9}\n",
      "44100\n",
      "2\n",
      "[-1  0  0 ...  0  0  1]\n"
     ]
    },
    {
     "ename": "AttributeError",
     "evalue": "module 'librosa' has no attribute 'display'",
     "output_type": "error",
     "traceback": [
      "\u001b[0;31m---------------------------------------------------------------------------\u001b[0m",
      "\u001b[0;31mAttributeError\u001b[0m                            Traceback (most recent call last)",
      "\u001b[0;32m<ipython-input-19-943d80d2627b>\u001b[0m in \u001b[0;36m<module>\u001b[0;34m\u001b[0m\n\u001b[1;32m    131\u001b[0m     \u001b[0;31m#sns.set()\u001b[0m\u001b[0;34m\u001b[0m\u001b[0;34m\u001b[0m\u001b[0m\n\u001b[1;32m    132\u001b[0m \u001b[0;34m\u001b[0m\u001b[0m\n\u001b[0;32m--> 133\u001b[0;31m     \u001b[0mlibrosa\u001b[0m\u001b[0;34m.\u001b[0m\u001b[0mdisplay\u001b[0m\u001b[0;34m.\u001b[0m\u001b[0mwaveplot\u001b[0m\u001b[0;34m(\u001b[0m\u001b[0msound_samples\u001b[0m\u001b[0;34m,\u001b[0m \u001b[0msr\u001b[0m\u001b[0;34m=\u001b[0m\u001b[0msr\u001b[0m\u001b[0;34m)\u001b[0m\u001b[0;34m\u001b[0m\u001b[0m\n\u001b[0m\u001b[1;32m    134\u001b[0m \u001b[0;34m\u001b[0m\u001b[0m\n\u001b[1;32m    135\u001b[0m \u001b[0;34m\u001b[0m\u001b[0m\n",
      "\u001b[0;31mAttributeError\u001b[0m: module 'librosa' has no attribute 'display'"
     ]
    }
   ],
   "source": [
    "import matplotlib.pyplot as plt\n",
    "import pandas as pd\n",
    "import numpy as np\n",
    "import seaborn as sns\n",
    "import math\n",
    "import os\n",
    "from pydub import AudioSegment\n",
    "from omapy.api import oma\n",
    "import librosa\n",
    "\n",
    "\n",
    "url = \"http://localhost:8080/\"\n",
    "login = oma.login(url, \"oma\", \"=PSe?sZ-ymp6mE>2\", False)\n",
    "print(login)\n",
    "\n",
    "data_list = \"data/Masterliste Werke+Aufnahmen - machine readable.csv\"\n",
    "data_dir = \"/home/martin/Workspace/musicData/data/\"\n",
    "df = pd.read_csv(data_list)\n",
    "\n",
    "df.head()\n",
    "\n",
    "\n",
    "\n",
    "filtered_data = df[df['tapping_files'].notnull()]\n",
    "    \n",
    "for index, row in filtered_data.iterrows():\n",
    "    \n",
    "    tapping_file_list = row['tapping_files'].split(\",\")\n",
    "    \n",
    "    # parse row\n",
    "    composer = row[\"Komponist\"]\n",
    "    work = row[\"Werkname\"]\n",
    "    part_number = row[\"Satz_Nr\"]\n",
    "    conductor = row[\"Dirigent\"]\n",
    "    orchestra = row[\"Orchester\"]\n",
    "    year = row[\"Aufnahmejahr\"]\n",
    "    \n",
    "    # print(composer, work, part_number, conductor, orchestra, year)\n",
    "    \n",
    "    c = {\"name\": composer}\n",
    "    c = oma.composer_add(c)\n",
    "    print(c)\n",
    "\n",
    "    composition = {\"title\": work, \"composer\": c[\"id\"]}\n",
    "    composition = oma.composition_add(composition)\n",
    "    print(composition)\n",
    "    \n",
    "    # interpretation\n",
    "    interpretation = {\"title\":  conductor + \", \" + orchestra + \", \" + str(year)}\n",
    "    interpretation = oma.interpretation_add(interpretation)\n",
    "    print(interpretation)\n",
    "    \n",
    "    \n",
    "    # abstract music (work) part of composition\n",
    "    \n",
    "    if math.isnan(row[\"Takt von\"]):\n",
    "        row[\"Takt von\"] = 0.0\n",
    "    \n",
    "    if math.isnan(row[\"Takt bis\"]):\n",
    "        row[\"Takt bis\"] = 0.0\n",
    "    \n",
    "    # offset and lengths in OMA instead of start and end. It's equivalent   \n",
    "    row[\"Takt bis\"] = row[\"Takt bis\"] - row[\"Takt von\"] \n",
    "\n",
    "    \n",
    "    abstract_music_part = {\n",
    "        \"title\": \"Movement \" + str(part_number),\n",
    "        \"movement\": part_number,\n",
    "        \"composition\": composition[\"id\"],\n",
    "        \"interpretation\": interpretation[\"id\"],\n",
    "        \"bar_number_offset\": row[\"Takt von\"],\n",
    "        \"number_of_bars\": row[\"Takt bis\"]\n",
    "    }\n",
    "    abstract_music_part = oma.interpretation_add_abstract_music_part(abstract_music_part)\n",
    "    print(abstract_music_part)\n",
    "    \n",
    "    \n",
    "    # recording and audio files\n",
    "    audio_path = data_dir + \"recordings/\" +row[\"recording_folder\"]\n",
    "    audio_file_list = os.listdir(audio_path)\n",
    "    legit_audio_files = []\n",
    "    for a in audio_file_list:\n",
    "        if a.endswith(\".flac\"): # or .wav or whatever\n",
    "            legit_audio_files.append(a)\n",
    "    \n",
    "    if (len(legit_audio_files) != 1):\n",
    "        print (\"only single audio file supported\")\n",
    "        sys.exit(1)\n",
    "    \n",
    "    file_name = legit_audio_files[0]\n",
    "    audio_file = audio_path + file_name\n",
    "    wav_file = audio_file + \".wav\"\n",
    "    mp3_file = audio_file + \".64k.mp3\"\n",
    "    \n",
    "    sound = AudioSegment.from_file(audio_file, \"flac\")\n",
    "    # song.export(wav_file, format=\"wav\")\n",
    "    \n",
    "    \n",
    "    if os.path.isfile(mp3_file) == False:\n",
    "        print(\"converting\")\n",
    "        sound.export(mp3_file, format=\"mp3\", bitrate=\"64k\")\n",
    "        \n",
    "    \n",
    "    recording = {\n",
    "        \"title\": \"Recording of \" + str(row[\"Aufnahmejahr\"]),\n",
    "        \"interpretation\": interpretation[\"id\"],\n",
    "        \"abstract_music_part\": abstract_music_part[\"id\"]       \n",
    "    }\n",
    "    files = {\n",
    "        # \"file\": (wav_file, open(wav_file, 'rb'), 'audio/wav', {'Expires': '0'})\n",
    "        \"file\": (mp3_file, open(mp3_file, 'rb'), 'audio/mpeg', {'Expires': '0'})\n",
    "    \n",
    "    }\n",
    "    \n",
    "    recording = oma.recording_add(recording, files)\n",
    "    print(recording)\n",
    "    \n",
    "    \n",
    "    mono_sound = sound.set_channels(1)\n",
    "    \n",
    "    sr = mono_sound.frame_rate\n",
    "    bytes_per_frame = mono_sound.frame_width\n",
    "    \n",
    "    sound_samples = np.array(mono_sound.get_array_of_samples())\n",
    "    \n",
    "    print(sr)\n",
    "    print(bytes_per_frame)\n",
    "    print(sound_samples)\n",
    "    \n",
    "    \n",
    "    \n",
    "    #sns.set()\n",
    "    \n",
    "    # librosa.display.waveplot(sound_samples, sr=sr) maybe?\n",
    "    \n",
    "    \n",
    "    break\n",
    "    \n",
    "    \n",
    "    \n",
    "    \n",
    "    # tappings. multiple files possible\n",
    "    for i in range(0, len(tapping_file_list)):\n",
    "        # print(\"\\t\", tapping_file_list[i])\n",
    "        # import that tapping file to recording\n",
    "        cwd = data_dir + row[\"tapping_folder\"]\n",
    "        tapping_file_name = tapping_file_list[i].rstrip()\n",
    "        tapping_file_path = cwd + \"/\" + tapping_file_name\n",
    "        # print(tapping_file_path)\n",
    "        if os.path.isfile(tapping_file_path) == False:\n",
    "            print(\"File not found\")\n",
    "        # tapping_data = parse_t_csv(cwd + \"/\" + tapping_file_name)\n",
    "        # upload tapping data\n",
    "        session = {\n",
    "            \"recording\": recording[\"id\"],\n",
    "            \"tapping_file_name\": tapping_file_name\n",
    "        }\n",
    "        files = {\n",
    "            \"file\": (tapping_file_name, open(tapping_file_path, 'rb'), 'text/csv', {'Expires': '0'})\n",
    "    \n",
    "        }\n",
    "        # session = oma.session_add(session, files)\n",
    "        # print(session[\"id\"])\n",
    "        \n",
    "    print(\"\")\n",
    "    print(\"Done!\")\n",
    "        \n",
    "\n"
   ]
  },
  {
   "cell_type": "code",
   "execution_count": null,
   "metadata": {},
   "outputs": [],
   "source": []
  },
  {
   "cell_type": "code",
   "execution_count": null,
   "metadata": {},
   "outputs": [],
   "source": []
  },
  {
   "cell_type": "code",
   "execution_count": null,
   "metadata": {},
   "outputs": [],
   "source": []
  },
  {
   "cell_type": "code",
   "execution_count": null,
   "metadata": {},
   "outputs": [],
   "source": []
  }
 ],
 "metadata": {
  "kernelspec": {
   "display_name": "Python 3",
   "language": "python",
   "name": "python3"
  },
  "language_info": {
   "codemirror_mode": {
    "name": "ipython",
    "version": 3
   },
   "file_extension": ".py",
   "mimetype": "text/x-python",
   "name": "python",
   "nbconvert_exporter": "python",
   "pygments_lexer": "ipython3",
   "version": "3.5.2"
  }
 },
 "nbformat": 4,
 "nbformat_minor": 4
}
