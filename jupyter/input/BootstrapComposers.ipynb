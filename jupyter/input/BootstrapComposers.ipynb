{
 "cells": [
  {
   "cell_type": "markdown",
   "metadata": {},
   "source": [
    "# Bootstrapping Composers from Wikipedia"
   ]
  },
  {
   "cell_type": "code",
   "execution_count": null,
   "metadata": {},
   "outputs": [],
   "source": []
  },
  {
   "cell_type": "code",
   "execution_count": null,
   "metadata": {},
   "outputs": [],
   "source": []
  },
  {
   "cell_type": "code",
   "execution_count": null,
   "metadata": {},
   "outputs": [],
   "source": []
  },
  {
   "cell_type": "code",
   "execution_count": 16,
   "metadata": {},
   "outputs": [
    {
     "name": "stdout",
     "output_type": "stream",
     "text": [
      "done\n"
     ]
    }
   ],
   "source": [
    "import requests\n",
    "import json\n",
    "\n",
    "url = \"https://en.wikipedia.org/wiki/List_of_composers_by_name\"\n",
    "r = requests.get(url, allow_redirects=True)\n",
    "\n",
    "\n",
    "try: \n",
    "    from BeautifulSoup import BeautifulSoup\n",
    "except ImportError:\n",
    "    from bs4 import BeautifulSoup\n",
    "    \n",
    "html = r.content\n",
    "\n",
    "parsed_html = BeautifulSoup(html)\n",
    "\n",
    "#print(parsed_html.body.find_all('li'))\n",
    "\n",
    "tags = parsed_html.body.find_all(\"li\")\n",
    "\n",
    "composerList = []\n",
    "\n",
    "for tag in tags:\n",
    "    a = tag.find(\"a\")\n",
    "    if a:\n",
    "        href = a.get(\"href\")\n",
    "        if href.startswith(\"/wiki/\"):\n",
    "            #print(a.string)\n",
    "            try:\n",
    "                composerName = a.string\n",
    "                stringParts = str(tag).split(\"(\")\n",
    "                stringParts = stringParts[1].split(\")\")\n",
    "                livedAt = stringParts[0]\n",
    "                composerList.append({\"name\": composerName, \"livedAt\": livedAt, \"href\": href})\n",
    "            except:\n",
    "                #print(\"ignoring\", a)\n",
    "                continue\n",
    "                \n",
    "# print(json.dumps(composerList))\n",
    "\n",
    "fo = open(\"composerList.json\", \"w\")\n",
    "fo.write(json.dumps(composerList))\n",
    "fo.close()\n",
    "\n",
    "print(\"done\")"
   ]
  },
  {
   "cell_type": "code",
   "execution_count": null,
   "metadata": {},
   "outputs": [],
   "source": []
  },
  {
   "cell_type": "code",
   "execution_count": null,
   "metadata": {},
   "outputs": [],
   "source": []
  },
  {
   "cell_type": "code",
   "execution_count": null,
   "metadata": {},
   "outputs": [],
   "source": []
  }
 ],
 "metadata": {
  "kernelspec": {
   "display_name": "Python 3",
   "language": "python",
   "name": "python3"
  },
  "language_info": {
   "codemirror_mode": {
    "name": "ipython",
    "version": 3
   },
   "file_extension": ".py",
   "mimetype": "text/x-python",
   "name": "python",
   "nbconvert_exporter": "python",
   "pygments_lexer": "ipython3",
   "version": "3.5.2"
  }
 },
 "nbformat": 4,
 "nbformat_minor": 4
}
